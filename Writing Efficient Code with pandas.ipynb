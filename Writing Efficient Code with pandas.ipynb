{
 "cells": [
  {
   "cell_type": "markdown",
   "id": "47c93efb",
   "metadata": {},
   "source": [
    "# 1. Selecting columns and rows efficiently\n",
    "## The need for efficient coding I"
   ]
  },
  {
   "cell_type": "code",
   "execution_count": 1,
   "id": "9638b056",
   "metadata": {},
   "outputs": [
    {
     "name": "stdout",
     "output_type": "stream",
     "text": [
      "Result calculated in 6.508827209472656e-05 sec\n"
     ]
    }
   ],
   "source": [
    "import time\n",
    "\n",
    "# Record time before execution\n",
    "start_time = time.time()\n",
    "\n",
    "# Excute operation\n",
    "result = 5 + 2\n",
    "\n",
    "# Record time after execution\n",
    "end_time = time.time()\n",
    "print(\"Result calculated in {} sec\".format(end_time - start_time))"
   ]
  },
  {
   "cell_type": "markdown",
   "id": "7428ecd8",
   "metadata": {},
   "source": [
    "#### List comprehension"
   ]
  },
  {
   "cell_type": "code",
   "execution_count": 2,
   "id": "5a02c893",
   "metadata": {
    "scrolled": true
   },
   "outputs": [
    {
     "name": "stdout",
     "output_type": "stream",
     "text": [
      "Time using the list_comprehension: 0.11697697639465332 sec\n"
     ]
    }
   ],
   "source": [
    "list_comp_start = time.time()\n",
    "result = [i*i for i in range(0,1000000)]\n",
    "list_comp_end = time.time()\n",
    "print(\"Time using the list_comprehension: {} sec\".format(list_comp_end - list_comp_start))"
   ]
  },
  {
   "cell_type": "markdown",
   "id": "f7d51717",
   "metadata": {},
   "source": [
    "#### For loop"
   ]
  },
  {
   "cell_type": "code",
   "execution_count": 3,
   "id": "2b4b27c0",
   "metadata": {},
   "outputs": [
    {
     "name": "stdout",
     "output_type": "stream",
     "text": [
      "Time using the for loop: 0.2155771255493164 sec\n"
     ]
    }
   ],
   "source": [
    "for_loop_start = time.time()\n",
    "\n",
    "result = []\n",
    "for i in range(0,1000000):\n",
    "    result.append(i*i)\n",
    "\n",
    "for_loop_end = time.time()\n",
    "print(\"Time using the for loop: {} sec\".format(for_loop_end - for_loop_start))"
   ]
  },
  {
   "cell_type": "code",
   "execution_count": 4,
   "id": "9b19272e",
   "metadata": {},
   "outputs": [
    {
     "name": "stdout",
     "output_type": "stream",
     "text": [
      "Difference in time: 84.29021863414296 %\n"
     ]
    }
   ],
   "source": [
    "list_comp_time = list_comp_end - list_comp_start\n",
    "for_loop_time = for_loop_end - for_loop_start\n",
    "print(\"Difference in time: {} %\".format((for_loop_time - list_comp_time)/list_comp_time*100))"
   ]
  },
  {
   "cell_type": "markdown",
   "id": "6fa15cb9",
   "metadata": {},
   "source": [
    "> A list comprehension is significant more efficient than a for loop."
   ]
  },
  {
   "cell_type": "code",
   "execution_count": 5,
   "id": "42ab9b39",
   "metadata": {},
   "outputs": [],
   "source": [
    "def sum_formula(N):\n",
    "    return N*(N+1)/2"
   ]
  },
  {
   "cell_type": "code",
   "execution_count": 6,
   "id": "2ffe3cd8",
   "metadata": {},
   "outputs": [
    {
     "name": "stdout",
     "output_type": "stream",
     "text": [
      "Time using the formula: 6.604194641113281e-05 sec\n"
     ]
    }
   ],
   "source": [
    "formula_start = time.time()\n",
    "formula_result = sum_formula(1000000)\n",
    "formula_end = time.time()\n",
    "\n",
    "print(\"Time using the formula: {} sec\".format(formula_end - formula_start))"
   ]
  },
  {
   "cell_type": "code",
   "execution_count": 7,
   "id": "62f1fe6b",
   "metadata": {},
   "outputs": [],
   "source": [
    "def sum_brute_force(N):\n",
    "    res = 0\n",
    "    for i in range(1,N+1):\n",
    "        res+=1\n",
    "    return res"
   ]
  },
  {
   "cell_type": "code",
   "execution_count": 8,
   "id": "d1907983",
   "metadata": {},
   "outputs": [
    {
     "name": "stdout",
     "output_type": "stream",
     "text": [
      "Time using the formula: 0.09088325500488281 sec\n"
     ]
    }
   ],
   "source": [
    "bf_start = time.time()\n",
    "formula_result = sum_brute_force(1000000)\n",
    "bf_end = time.time()\n",
    "\n",
    "print(\"Time using the formula: {} sec\".format(bf_end - bf_start))"
   ]
  },
  {
   "cell_type": "code",
   "execution_count": 9,
   "id": "59dc0a09",
   "metadata": {},
   "outputs": [
    {
     "name": "stdout",
     "output_type": "stream",
     "text": [
      "Difference in time: 137514.440433213 %\n"
     ]
    }
   ],
   "source": [
    "formula_time = formula_end - formula_start\n",
    "bf_time = bf_end - bf_start\n",
    "print(\"Difference in time: {} %\".format((bf_time - formula_time)/formula_time*100))"
   ]
  },
  {
   "cell_type": "markdown",
   "id": "c14ac214",
   "metadata": {},
   "source": [
    "### Measuring time I\n"
   ]
  },
  {
   "cell_type": "code",
   "execution_count": 10,
   "id": "afbf90ac",
   "metadata": {},
   "outputs": [
    {
     "name": "stdout",
     "output_type": "stream",
     "text": [
      "Time using formula: 7.82012939453125e-05 sec\n",
      "Time using the brute force: 0.09928488731384277 sec\n"
     ]
    }
   ],
   "source": [
    "# Calculate the result of the problem using formula() and print the time required\n",
    "N = 1000000\n",
    "fm_start_time = time.time()\n",
    "first_method = sum_formula(N)\n",
    "print(\"Time using formula: {} sec\".format(time.time() - fm_start_time))\n",
    "\n",
    "# Calculate the result of the problem using brute_force() and print the time required\n",
    "sm_start_time = time.time()\n",
    "second_method = sum_brute_force(N)\n",
    "print(\"Time using the brute force: {} sec\".format(time.time() - sm_start_time))"
   ]
  },
  {
   "cell_type": "markdown",
   "id": "dc79c4e1",
   "metadata": {},
   "source": [
    "### Measuring time II\n"
   ]
  },
  {
   "cell_type": "code",
   "execution_count": 11,
   "id": "80ff3fa2",
   "metadata": {},
   "outputs": [],
   "source": [
    "words = ['<html>',\n",
    " '<head><title>404 Not Found</title></head>',\n",
    " '<body>',\n",
    " '<center><h1>404 Not Found</h1></center>',\n",
    " '<hr><center>nginx</center>',\n",
    " '</body>',\n",
    " '</html>']"
   ]
  },
  {
   "cell_type": "code",
   "execution_count": 12,
   "id": "dab65684",
   "metadata": {
    "scrolled": true
   },
   "outputs": [
    {
     "name": "stdout",
     "output_type": "stream",
     "text": [
      "Time using list comprehension: 0.00015401840209960938 sec\n"
     ]
    }
   ],
   "source": [
    "# Store the time before the execution\n",
    "start_time = time.time()\n",
    "\n",
    "# Execute the operation\n",
    "letlist = [wrd for wrd in words if wrd.startswith('b')]\n",
    "\n",
    "# Store and print the difference between the start and the current time\n",
    "total_time_lc = time.time() - start_time\n",
    "print('Time using list comprehension: {} sec'.format(total_time_lc))"
   ]
  },
  {
   "cell_type": "code",
   "execution_count": 13,
   "id": "5040ce27",
   "metadata": {},
   "outputs": [
    {
     "data": {
      "text/plain": [
       "[]"
      ]
     },
     "execution_count": 13,
     "metadata": {},
     "output_type": "execute_result"
    }
   ],
   "source": [
    "letlist"
   ]
  },
  {
   "cell_type": "code",
   "execution_count": 14,
   "id": "b01209b0",
   "metadata": {},
   "outputs": [
    {
     "name": "stdout",
     "output_type": "stream",
     "text": [
      "Time using for loop: 0.00012493133544921875 sec\n"
     ]
    }
   ],
   "source": [
    "# Store the time before the execution\n",
    "start_time = time.time()\n",
    "\n",
    "# Execute the operation\n",
    "letlist = []\n",
    "for wrd in words:\n",
    "    if wrd.startswith('b'):\n",
    "        letlist.append(wrd)\n",
    "        \n",
    "# Print the difference between the start and the current time\n",
    "total_time_fl = time.time() - start_time\n",
    "print('Time using for loop: {} sec'.format(total_time_fl))"
   ]
  },
  {
   "cell_type": "code",
   "execution_count": 15,
   "id": "f509a37b",
   "metadata": {},
   "outputs": [
    {
     "data": {
      "text/plain": [
       "[]"
      ]
     },
     "execution_count": 15,
     "metadata": {},
     "output_type": "execute_result"
    }
   ],
   "source": [
    "letlist"
   ]
  },
  {
   "cell_type": "markdown",
   "id": "f73ecdc4",
   "metadata": {},
   "source": [
    "## Locate rows: .iloc[] and .loc[]\n"
   ]
  },
  {
   "cell_type": "code",
   "execution_count": 16,
   "id": "bf77ed09",
   "metadata": {},
   "outputs": [
    {
     "data": {
      "text/html": [
       "<div>\n",
       "<style scoped>\n",
       "    .dataframe tbody tr th:only-of-type {\n",
       "        vertical-align: middle;\n",
       "    }\n",
       "\n",
       "    .dataframe tbody tr th {\n",
       "        vertical-align: top;\n",
       "    }\n",
       "\n",
       "    .dataframe thead th {\n",
       "        text-align: right;\n",
       "    }\n",
       "</style>\n",
       "<table border=\"1\" class=\"dataframe\">\n",
       "  <thead>\n",
       "    <tr style=\"text-align: right;\">\n",
       "      <th></th>\n",
       "      <th>S1</th>\n",
       "      <th>R1</th>\n",
       "      <th>S2</th>\n",
       "      <th>R2</th>\n",
       "      <th>S3</th>\n",
       "      <th>R3</th>\n",
       "      <th>S4</th>\n",
       "      <th>R4</th>\n",
       "      <th>S5</th>\n",
       "      <th>R5</th>\n",
       "      <th>Class</th>\n",
       "    </tr>\n",
       "  </thead>\n",
       "  <tbody>\n",
       "    <tr>\n",
       "      <th>0</th>\n",
       "      <td>1</td>\n",
       "      <td>10</td>\n",
       "      <td>1</td>\n",
       "      <td>11</td>\n",
       "      <td>1</td>\n",
       "      <td>13</td>\n",
       "      <td>1</td>\n",
       "      <td>12</td>\n",
       "      <td>1</td>\n",
       "      <td>1</td>\n",
       "      <td>9</td>\n",
       "    </tr>\n",
       "    <tr>\n",
       "      <th>1</th>\n",
       "      <td>2</td>\n",
       "      <td>11</td>\n",
       "      <td>2</td>\n",
       "      <td>13</td>\n",
       "      <td>2</td>\n",
       "      <td>10</td>\n",
       "      <td>2</td>\n",
       "      <td>12</td>\n",
       "      <td>2</td>\n",
       "      <td>1</td>\n",
       "      <td>9</td>\n",
       "    </tr>\n",
       "    <tr>\n",
       "      <th>2</th>\n",
       "      <td>3</td>\n",
       "      <td>12</td>\n",
       "      <td>3</td>\n",
       "      <td>11</td>\n",
       "      <td>3</td>\n",
       "      <td>13</td>\n",
       "      <td>3</td>\n",
       "      <td>10</td>\n",
       "      <td>3</td>\n",
       "      <td>1</td>\n",
       "      <td>9</td>\n",
       "    </tr>\n",
       "    <tr>\n",
       "      <th>3</th>\n",
       "      <td>4</td>\n",
       "      <td>10</td>\n",
       "      <td>4</td>\n",
       "      <td>11</td>\n",
       "      <td>4</td>\n",
       "      <td>1</td>\n",
       "      <td>4</td>\n",
       "      <td>13</td>\n",
       "      <td>4</td>\n",
       "      <td>12</td>\n",
       "      <td>9</td>\n",
       "    </tr>\n",
       "    <tr>\n",
       "      <th>4</th>\n",
       "      <td>4</td>\n",
       "      <td>1</td>\n",
       "      <td>4</td>\n",
       "      <td>13</td>\n",
       "      <td>4</td>\n",
       "      <td>12</td>\n",
       "      <td>4</td>\n",
       "      <td>11</td>\n",
       "      <td>4</td>\n",
       "      <td>10</td>\n",
       "      <td>9</td>\n",
       "    </tr>\n",
       "  </tbody>\n",
       "</table>\n",
       "</div>"
      ],
      "text/plain": [
       "   S1  R1  S2  R2  S3  R3  S4  R4  S5  R5  Class\n",
       "0   1  10   1  11   1  13   1  12   1   1      9\n",
       "1   2  11   2  13   2  10   2  12   2   1      9\n",
       "2   3  12   3  11   3  13   3  10   3   1      9\n",
       "3   4  10   4  11   4   1   4  13   4  12      9\n",
       "4   4   1   4  13   4  12   4  11   4  10      9"
      ]
     },
     "execution_count": 16,
     "metadata": {},
     "output_type": "execute_result"
    }
   ],
   "source": [
    "import pandas as pd\n",
    "poker = pd.read_csv('poker_hand.csv')\n",
    "poker.head()"
   ]
  },
  {
   "cell_type": "code",
   "execution_count": 17,
   "id": "ab574a99",
   "metadata": {
    "scrolled": true
   },
   "outputs": [
    {
     "name": "stdout",
     "output_type": "stream",
     "text": [
      "Time using .loc[] : 0.0012378692626953125 sec\n"
     ]
    }
   ],
   "source": [
    "rows = range(0,500)\n",
    "loc_start = time.time()\n",
    "poker.loc[rows]\n",
    "loc_end = time.time()\n",
    "\n",
    "print(\"Time using .loc[] : {} sec\".format(loc_end - loc_start))"
   ]
  },
  {
   "cell_type": "code",
   "execution_count": 18,
   "id": "32629430",
   "metadata": {},
   "outputs": [
    {
     "name": "stdout",
     "output_type": "stream",
     "text": [
      "Time using .iloc[] : 0.0004296302795410156 sec\n"
     ]
    }
   ],
   "source": [
    "rows = range(0,500)\n",
    "iloc_start = time.time()\n",
    "poker.iloc[rows]\n",
    "iloc_end = time.time()\n",
    "\n",
    "print(\"Time using .iloc[] : {} sec\".format(iloc_end - iloc_start))"
   ]
  },
  {
   "cell_type": "code",
   "execution_count": 19,
   "id": "75ace110",
   "metadata": {},
   "outputs": [
    {
     "name": "stdout",
     "output_type": "stream",
     "text": [
      "Difference in time: 188.1243063263041 %\n"
     ]
    }
   ],
   "source": [
    "loc_time = loc_end - loc_start\n",
    "iloc_time = iloc_end - iloc_start\n",
    "print(\"Difference in time: {} %\".format((loc_time - iloc_time)/iloc_time*100))"
   ]
  },
  {
   "cell_type": "markdown",
   "id": "599b9350",
   "metadata": {},
   "source": [
    "> .iloc[] is much faster"
   ]
  },
  {
   "cell_type": "markdown",
   "id": "24a1997c",
   "metadata": {},
   "source": [
    "#### Locate targeted rows"
   ]
  },
  {
   "cell_type": "code",
   "execution_count": 20,
   "id": "f75fcde5",
   "metadata": {},
   "outputs": [
    {
     "name": "stdout",
     "output_type": "stream",
     "text": [
      "Time using .iloc[] : 0.0002658367156982422 sec\n"
     ]
    }
   ],
   "source": [
    "iloc_start = time.time()\n",
    "poker.iloc[:,:3]\n",
    "iloc_end = time.time()\n",
    "\n",
    "print(\"Time using .iloc[] : {} sec\".format(iloc_end - iloc_start))"
   ]
  },
  {
   "cell_type": "code",
   "execution_count": 21,
   "id": "091d065f",
   "metadata": {},
   "outputs": [
    {
     "name": "stdout",
     "output_type": "stream",
     "text": [
      "Time using selection by name: 0.0019519329071044922 sec\n"
     ]
    }
   ],
   "source": [
    "names_start = time.time()\n",
    "poker[['S1','R1','S2']]\n",
    "names_end = time.time()\n",
    "print(\"Time using selection by name: {} sec\".format(names_end - names_start))"
   ]
  },
  {
   "cell_type": "code",
   "execution_count": 22,
   "id": "55663c85",
   "metadata": {},
   "outputs": [
    {
     "name": "stdout",
     "output_type": "stream",
     "text": [
      "Difference in time: 634.2600896860986 %\n"
     ]
    }
   ],
   "source": [
    "iloc_time = iloc_end - iloc_start\n",
    "names_time = names_end - names_start\n",
    "print(\"Difference in time: {} %\".format((names_time - iloc_time)/iloc_time*100))"
   ]
  },
  {
   "cell_type": "markdown",
   "id": "ddfb8705",
   "metadata": {},
   "source": [
    "> .loc[] works better for selecting columns.\n",
    "\n",
    "> .iloc[] works better for selecting specific rows."
   ]
  },
  {
   "cell_type": "markdown",
   "id": "7ea45d11",
   "metadata": {},
   "source": [
    "### Row selection: loc[] vs iloc[]\n"
   ]
  },
  {
   "cell_type": "code",
   "execution_count": 23,
   "id": "119e4881",
   "metadata": {},
   "outputs": [
    {
     "name": "stdout",
     "output_type": "stream",
     "text": [
      "Time using .loc[]: 0.0025169849395751953 sec\n",
      "Time using .iloc[]: 0.0006580352783203125 sec\n"
     ]
    }
   ],
   "source": [
    "# Define the range of rows to select: row_nums\n",
    "row_nums = range(0, 1000)\n",
    "\n",
    "# Select the rows using .loc[] and row_nums and record the time before and after\n",
    "loc_start_time = time.time()\n",
    "rows = poker.loc[row_nums]\n",
    "loc_end_time = time.time()\n",
    "\n",
    "# Print the time it took to select the rows using .loc\n",
    "print(\"Time using .loc[]: {} sec\".format(loc_end_time - loc_start_time))\n",
    "\n",
    "# Select the rows using .iloc[] and row_nums and record the time before and after\n",
    "iloc_start_time = time.time()\n",
    "rows = poker.iloc[row_nums]\n",
    "iloc_end_time = time.time()\n",
    "\n",
    "# Print the time it took to select the rows using .iloc\n",
    "print(\"Time using .iloc[]: {} sec\".format(iloc_end_time - iloc_start_time))"
   ]
  },
  {
   "cell_type": "markdown",
   "id": "1338f72f",
   "metadata": {},
   "source": [
    "> .iloc[] is more efficient"
   ]
  },
  {
   "cell_type": "markdown",
   "id": "614a2b5a",
   "metadata": {},
   "source": [
    "### Column selection: .iloc[] vs by name\n"
   ]
  },
  {
   "cell_type": "code",
   "execution_count": 24,
   "id": "b6eb15fa",
   "metadata": {},
   "outputs": [
    {
     "name": "stdout",
     "output_type": "stream",
     "text": [
      "Time using .iloc[] : 0.0009059906005859375 sec\n",
      "Time using selection by name : 0.0014030933380126953 sec\n"
     ]
    }
   ],
   "source": [
    "# Use .iloc to select the first, fourth, fifth, seventh and eighth column and record the times before and after\n",
    "iloc_start_time = time.time()\n",
    "cols = poker.iloc[:,[0,3,4,6,7]]\n",
    "iloc_end_time = time.time()\n",
    "\n",
    "# Print the time it took\n",
    "print(\"Time using .iloc[] : {} sec\".format(iloc_end_time - iloc_start_time))\n",
    "\n",
    "# Use simple column selection to select the first, fourth, fifth, seventh and eighth column and record the times before and after\n",
    "names_start_time = time.time()\n",
    "cols = poker[['S1', 'S2', 'R2', 'R3', 'S4']]\n",
    "names_end_time = time.time()\n",
    "\n",
    "# Print the time it took\n",
    "print(\"Time using selection by name : {} sec\".format(names_end_time - names_start_time))"
   ]
  },
  {
   "cell_type": "markdown",
   "id": "723f375d",
   "metadata": {},
   "source": [
    "> Simple columns selection is more efficient"
   ]
  },
  {
   "cell_type": "markdown",
   "id": "abf5cc75",
   "metadata": {},
   "source": [
    "## Select random rows\n"
   ]
  },
  {
   "cell_type": "markdown",
   "id": "8068a6f6",
   "metadata": {},
   "source": [
    "#### rows"
   ]
  },
  {
   "cell_type": "code",
   "execution_count": 25,
   "id": "18a852c8",
   "metadata": {},
   "outputs": [
    {
     "name": "stdout",
     "output_type": "stream",
     "text": [
      "Time using sample: 0.0018699169158935547 sec\n"
     ]
    }
   ],
   "source": [
    "pd_start_time = time.time()\n",
    "poker.sample(100, axis=0)\n",
    "pd_end_time = time.time()\n",
    "print(\"Time using sample: {} sec\".format(pd_end_time - pd_start_time))"
   ]
  },
  {
   "cell_type": "code",
   "execution_count": 26,
   "id": "db54bd79",
   "metadata": {},
   "outputs": [
    {
     "name": "stdout",
     "output_type": "stream",
     "text": [
      "Time using sample: 0.0005071163177490234 sec\n"
     ]
    }
   ],
   "source": [
    "import numpy as np\n",
    "np_start_time = time.time()\n",
    "poker.iloc[np.random.randint(low=0, high=poker.shape[0], size=100)]\n",
    "np_end_time = time.time()\n",
    "print(\"Time using sample: {} sec\".format(np_end_time - np_start_time))"
   ]
  },
  {
   "cell_type": "code",
   "execution_count": 27,
   "id": "65e1d41b",
   "metadata": {},
   "outputs": [
    {
     "name": "stdout",
     "output_type": "stream",
     "text": [
      "Difference in time: 268.7353079454631 %\n"
     ]
    }
   ],
   "source": [
    "pd_time = pd_end_time - pd_start_time\n",
    "np_time = np_end_time - np_start_time\n",
    "print(\"Difference in time: {} %\".format((pd_time - np_time)/np_time*100))"
   ]
  },
  {
   "cell_type": "markdown",
   "id": "f47e54ad",
   "metadata": {},
   "source": [
    "#### columns"
   ]
  },
  {
   "cell_type": "code",
   "execution_count": 28,
   "id": "1fdfc401",
   "metadata": {},
   "outputs": [
    {
     "name": "stdout",
     "output_type": "stream",
     "text": [
      "Time using sample: 0.0005090236663818359 sec\n"
     ]
    }
   ],
   "source": [
    "pd_start = time.time()\n",
    "poker.sample(3, axis=1)\n",
    "pd_end = time.time()\n",
    "print(\"Time using sample: {} sec\".format(pd_end - pd_start))"
   ]
  },
  {
   "cell_type": "code",
   "execution_count": 29,
   "id": "28bd7367",
   "metadata": {},
   "outputs": [
    {
     "name": "stdout",
     "output_type": "stream",
     "text": [
      "Time using sample: 0.0010890960693359375 sec\n"
     ]
    }
   ],
   "source": [
    "N = poker.shape[1]\n",
    "np_start = time.time()\n",
    "poker.iloc[:,np.random.randint(low=0, high=N, size=3)]\n",
    "np_end = time.time()\n",
    "print(\"Time using sample: {} sec\".format(np_end - np_start))"
   ]
  },
  {
   "cell_type": "code",
   "execution_count": 30,
   "id": "40beca9c",
   "metadata": {},
   "outputs": [
    {
     "name": "stdout",
     "output_type": "stream",
     "text": [
      "Difference in time: 113.95784543325527 %\n"
     ]
    }
   ],
   "source": [
    "pd_time = pd_end - pd_start\n",
    "np_time = np_end - np_start\n",
    "print(\"Difference in time: {} %\".format((np_time - pd_time)/pd_time*100))"
   ]
  },
  {
   "cell_type": "markdown",
   "id": "d09bedbb",
   "metadata": {},
   "source": [
    "### Random row selection\n"
   ]
  },
  {
   "cell_type": "code",
   "execution_count": 31,
   "id": "98e7d7d6",
   "metadata": {},
   "outputs": [
    {
     "name": "stdout",
     "output_type": "stream",
     "text": [
      "Time using Numpy: 0.004274129867553711 sec\n",
      "Time using .sample: 0.0017731189727783203 sec\n"
     ]
    }
   ],
   "source": [
    "# Extract number of rows in dataset\n",
    "N=poker.shape[0]\n",
    "\n",
    "# Select and time the selection of the 75% of the dataset's rows\n",
    "rand_start_time = time.time()\n",
    "poker.iloc[np.random.randint(low=0, high=N, size=int(0.75 * N))]\n",
    "print(\"Time using Numpy: {} sec\".format(time.time() - rand_start_time))\n",
    "\n",
    "# Select and time the selection of the 75% of the dataset's rows using sample()\n",
    "samp_start_time = time.time()\n",
    "poker.sample(int(0.75 * N), axis=0, replace = True)\n",
    "print(\"Time using .sample: {} sec\".format(time.time() - samp_start_time))"
   ]
  },
  {
   "cell_type": "markdown",
   "id": "bbbf6fef",
   "metadata": {},
   "source": [
    "> .sample() is more efficient.\n",
    "### Random column selection\n"
   ]
  },
  {
   "cell_type": "code",
   "execution_count": 32,
   "id": "b62cea6f",
   "metadata": {},
   "outputs": [
    {
     "name": "stdout",
     "output_type": "stream",
     "text": [
      "Time using NymPy's random.randint(): 0.0009701251983642578 sec\n",
      "Time using panda's .sample(): 0.0005309581756591797 sec\n"
     ]
    }
   ],
   "source": [
    "# Extract number of columns in dataset\n",
    "D=poker.shape[1]\n",
    "\n",
    "# Select and time the selection of 4 of the dataset's columns using NumPy\n",
    "np_start_time = time.time()\n",
    "poker.iloc[:,np.random.randint(low=0, high=D, size=4)]\n",
    "print(\"Time using NymPy's random.randint(): {} sec\".format(time.time() - np_start_time))\n",
    "\n",
    "# Select and time the selection of 4 of the dataset's columns using pandas\n",
    "pd_start_time = time.time()\n",
    "poker.sample(4, axis=1)\n",
    "print(\"Time using panda's .sample(): {} sec\".format(time.time() - pd_start_time))"
   ]
  },
  {
   "cell_type": "markdown",
   "id": "1508441c",
   "metadata": {},
   "source": [
    "> .sample() is more efficient.\n",
    "\n",
    "# 2. Replacing values in a DataFrame\n",
    "## Replace scalar values using .replace()\n"
   ]
  },
  {
   "cell_type": "code",
   "execution_count": 33,
   "id": "274fbf68",
   "metadata": {},
   "outputs": [
    {
     "data": {
      "text/html": [
       "<div>\n",
       "<style scoped>\n",
       "    .dataframe tbody tr th:only-of-type {\n",
       "        vertical-align: middle;\n",
       "    }\n",
       "\n",
       "    .dataframe tbody tr th {\n",
       "        vertical-align: top;\n",
       "    }\n",
       "\n",
       "    .dataframe thead th {\n",
       "        text-align: right;\n",
       "    }\n",
       "</style>\n",
       "<table border=\"1\" class=\"dataframe\">\n",
       "  <thead>\n",
       "    <tr style=\"text-align: right;\">\n",
       "      <th></th>\n",
       "      <th>Year of Birth</th>\n",
       "      <th>Gender</th>\n",
       "      <th>Ethnicity</th>\n",
       "      <th>Child's First Name</th>\n",
       "      <th>Count</th>\n",
       "      <th>Rank</th>\n",
       "    </tr>\n",
       "  </thead>\n",
       "  <tbody>\n",
       "    <tr>\n",
       "      <th>0</th>\n",
       "      <td>2011</td>\n",
       "      <td>FEMALE</td>\n",
       "      <td>ASIAN AND PACIFIC ISLANDER</td>\n",
       "      <td>SOPHIA</td>\n",
       "      <td>119</td>\n",
       "      <td>1</td>\n",
       "    </tr>\n",
       "    <tr>\n",
       "      <th>1</th>\n",
       "      <td>2011</td>\n",
       "      <td>FEMALE</td>\n",
       "      <td>ASIAN AND PACIFIC ISLANDER</td>\n",
       "      <td>CHLOE</td>\n",
       "      <td>106</td>\n",
       "      <td>2</td>\n",
       "    </tr>\n",
       "    <tr>\n",
       "      <th>2</th>\n",
       "      <td>2011</td>\n",
       "      <td>FEMALE</td>\n",
       "      <td>ASIAN AND PACIFIC ISLANDER</td>\n",
       "      <td>EMILY</td>\n",
       "      <td>93</td>\n",
       "      <td>3</td>\n",
       "    </tr>\n",
       "    <tr>\n",
       "      <th>3</th>\n",
       "      <td>2011</td>\n",
       "      <td>FEMALE</td>\n",
       "      <td>ASIAN AND PACIFIC ISLANDER</td>\n",
       "      <td>OLIVIA</td>\n",
       "      <td>89</td>\n",
       "      <td>4</td>\n",
       "    </tr>\n",
       "    <tr>\n",
       "      <th>4</th>\n",
       "      <td>2011</td>\n",
       "      <td>FEMALE</td>\n",
       "      <td>ASIAN AND PACIFIC ISLANDER</td>\n",
       "      <td>EMMA</td>\n",
       "      <td>75</td>\n",
       "      <td>5</td>\n",
       "    </tr>\n",
       "  </tbody>\n",
       "</table>\n",
       "</div>"
      ],
      "text/plain": [
       "   Year of Birth  Gender                   Ethnicity Child's First Name  \\\n",
       "0           2011  FEMALE  ASIAN AND PACIFIC ISLANDER             SOPHIA   \n",
       "1           2011  FEMALE  ASIAN AND PACIFIC ISLANDER              CHLOE   \n",
       "2           2011  FEMALE  ASIAN AND PACIFIC ISLANDER              EMILY   \n",
       "3           2011  FEMALE  ASIAN AND PACIFIC ISLANDER             OLIVIA   \n",
       "4           2011  FEMALE  ASIAN AND PACIFIC ISLANDER               EMMA   \n",
       "\n",
       "   Count  Rank  \n",
       "0    119     1  \n",
       "1    106     2  \n",
       "2     93     3  \n",
       "3     89     4  \n",
       "4     75     5  "
      ]
     },
     "execution_count": 33,
     "metadata": {},
     "output_type": "execute_result"
    }
   ],
   "source": [
    "names = pd.read_csv('Popular_Baby_Names.csv')\n",
    "names.head()"
   ]
  },
  {
   "cell_type": "code",
   "execution_count": 34,
   "id": "c4e6d380",
   "metadata": {},
   "outputs": [
    {
     "name": "stdout",
     "output_type": "stream",
     "text": [
      "Replace values using .loc[]: 0.1655130386352539 sec\n"
     ]
    },
    {
     "name": "stderr",
     "output_type": "stream",
     "text": [
      "/var/folders/4n/dll6nv094h5fm4m2lhzkmtd40000gn/T/ipykernel_75379/3261700718.py:2: SettingWithCopyWarning: \n",
      "A value is trying to be set on a copy of a slice from a DataFrame\n",
      "\n",
      "See the caveats in the documentation: https://pandas.pydata.org/pandas-docs/stable/user_guide/indexing.html#returning-a-view-versus-a-copy\n",
      "  names['Gender'].loc[names['Gender']=='MALE'] = 'BOY'\n"
     ]
    }
   ],
   "source": [
    "start_time = time.time()\n",
    "names['Gender'].loc[names['Gender']=='MALE'] = 'BOY'\n",
    "print(\"Replace values using .loc[]: {} sec\".format(time.time() - start_time))"
   ]
  },
  {
   "cell_type": "code",
   "execution_count": 35,
   "id": "2e6222f8",
   "metadata": {},
   "outputs": [
    {
     "name": "stdout",
     "output_type": "stream",
     "text": [
      "Replace values using .replace(): 0.0009098052978515625 sec\n"
     ]
    }
   ],
   "source": [
    "start_time = time.time()\n",
    "names['Gender'].replace('MALE', 'BOY')\n",
    "print(\"Replace values using .replace(): {} sec\".format(time.time() - start_time))"
   ]
  },
  {
   "cell_type": "markdown",
   "id": "d3601bef",
   "metadata": {},
   "source": [
    "### Replacing scalar values I\n"
   ]
  },
  {
   "cell_type": "code",
   "execution_count": 36,
   "id": "599b83a3",
   "metadata": {},
   "outputs": [
    {
     "data": {
      "text/html": [
       "<div>\n",
       "<style scoped>\n",
       "    .dataframe tbody tr th:only-of-type {\n",
       "        vertical-align: middle;\n",
       "    }\n",
       "\n",
       "    .dataframe tbody tr th {\n",
       "        vertical-align: top;\n",
       "    }\n",
       "\n",
       "    .dataframe thead th {\n",
       "        text-align: right;\n",
       "    }\n",
       "</style>\n",
       "<table border=\"1\" class=\"dataframe\">\n",
       "  <thead>\n",
       "    <tr style=\"text-align: right;\">\n",
       "      <th></th>\n",
       "      <th>S1</th>\n",
       "      <th>R1</th>\n",
       "      <th>S2</th>\n",
       "      <th>R2</th>\n",
       "      <th>S3</th>\n",
       "      <th>R3</th>\n",
       "      <th>S4</th>\n",
       "      <th>R4</th>\n",
       "      <th>S5</th>\n",
       "      <th>R5</th>\n",
       "      <th>Class</th>\n",
       "    </tr>\n",
       "  </thead>\n",
       "  <tbody>\n",
       "    <tr>\n",
       "      <th>0</th>\n",
       "      <td>1</td>\n",
       "      <td>10</td>\n",
       "      <td>1</td>\n",
       "      <td>11</td>\n",
       "      <td>1</td>\n",
       "      <td>13</td>\n",
       "      <td>1</td>\n",
       "      <td>12</td>\n",
       "      <td>1</td>\n",
       "      <td>1</td>\n",
       "      <td>9</td>\n",
       "    </tr>\n",
       "    <tr>\n",
       "      <th>1</th>\n",
       "      <td>2</td>\n",
       "      <td>11</td>\n",
       "      <td>2</td>\n",
       "      <td>13</td>\n",
       "      <td>2</td>\n",
       "      <td>10</td>\n",
       "      <td>2</td>\n",
       "      <td>12</td>\n",
       "      <td>2</td>\n",
       "      <td>1</td>\n",
       "      <td>9</td>\n",
       "    </tr>\n",
       "    <tr>\n",
       "      <th>2</th>\n",
       "      <td>3</td>\n",
       "      <td>12</td>\n",
       "      <td>3</td>\n",
       "      <td>11</td>\n",
       "      <td>3</td>\n",
       "      <td>13</td>\n",
       "      <td>3</td>\n",
       "      <td>10</td>\n",
       "      <td>3</td>\n",
       "      <td>1</td>\n",
       "      <td>9</td>\n",
       "    </tr>\n",
       "    <tr>\n",
       "      <th>3</th>\n",
       "      <td>4</td>\n",
       "      <td>10</td>\n",
       "      <td>4</td>\n",
       "      <td>11</td>\n",
       "      <td>4</td>\n",
       "      <td>1</td>\n",
       "      <td>4</td>\n",
       "      <td>13</td>\n",
       "      <td>4</td>\n",
       "      <td>12</td>\n",
       "      <td>9</td>\n",
       "    </tr>\n",
       "    <tr>\n",
       "      <th>4</th>\n",
       "      <td>4</td>\n",
       "      <td>1</td>\n",
       "      <td>4</td>\n",
       "      <td>13</td>\n",
       "      <td>4</td>\n",
       "      <td>12</td>\n",
       "      <td>4</td>\n",
       "      <td>11</td>\n",
       "      <td>4</td>\n",
       "      <td>10</td>\n",
       "      <td>9</td>\n",
       "    </tr>\n",
       "  </tbody>\n",
       "</table>\n",
       "</div>"
      ],
      "text/plain": [
       "   S1  R1  S2  R2  S3  R3  S4  R4  S5  R5  Class\n",
       "0   1  10   1  11   1  13   1  12   1   1      9\n",
       "1   2  11   2  13   2  10   2  12   2   1      9\n",
       "2   3  12   3  11   3  13   3  10   3   1      9\n",
       "3   4  10   4  11   4   1   4  13   4  12      9\n",
       "4   4   1   4  13   4  12   4  11   4  10      9"
      ]
     },
     "execution_count": 36,
     "metadata": {},
     "output_type": "execute_result"
    }
   ],
   "source": [
    "poker_hands = poker\n",
    "poker_hands.head()"
   ]
  },
  {
   "cell_type": "code",
   "execution_count": 37,
   "id": "35b56bd7",
   "metadata": {},
   "outputs": [
    {
     "data": {
      "text/plain": [
       " 0    12493\n",
       "-2    10599\n",
       "-3     1206\n",
       " 3      513\n",
       " 4       93\n",
       " 5       54\n",
       " 6       36\n",
       " 7        6\n",
       " 9        5\n",
       " 8        5\n",
       "Name: Class, dtype: int64"
      ]
     },
     "execution_count": 37,
     "metadata": {},
     "output_type": "execute_result"
    }
   ],
   "source": [
    "# Replace Class 1 to -2 \n",
    "poker_hands['Class'].replace(1, -2, inplace=True)\n",
    "# Replace Class 2 to -3\n",
    "poker_hands['Class'].replace(2, -3, inplace=True)\n",
    "\n",
    "poker_hands.Class.value_counts()"
   ]
  },
  {
   "cell_type": "markdown",
   "id": "1c58e338",
   "metadata": {},
   "source": [
    "### Replace scalar values II\n"
   ]
  },
  {
   "cell_type": "code",
   "execution_count": 38,
   "id": "c0803ddd",
   "metadata": {},
   "outputs": [
    {
     "name": "stdout",
     "output_type": "stream",
     "text": [
      "Time using .loc[]: 0.012611150741577148 sec\n"
     ]
    },
    {
     "name": "stderr",
     "output_type": "stream",
     "text": [
      "/var/folders/4n/dll6nv094h5fm4m2lhzkmtd40000gn/T/ipykernel_75379/2021469118.py:4: SettingWithCopyWarning: \n",
      "A value is trying to be set on a copy of a slice from a DataFrame\n",
      "\n",
      "See the caveats in the documentation: https://pandas.pydata.org/pandas-docs/stable/user_guide/indexing.html#returning-a-view-versus-a-copy\n",
      "  names['Gender'].loc[names['Gender'] == 'FEMALE'] = 'GIRL'\n"
     ]
    }
   ],
   "source": [
    "start_time = time.time()\n",
    "\n",
    "# Replace all the entries that has 'FEMALE' as a gender with 'GIRL'\n",
    "names['Gender'].loc[names['Gender'] == 'FEMALE'] = 'GIRL'\n",
    "\n",
    "print(\"Time using .loc[]: {} sec\".format(time.time() - start_time))"
   ]
  },
  {
   "cell_type": "code",
   "execution_count": 39,
   "id": "d1dd88e4",
   "metadata": {},
   "outputs": [
    {
     "name": "stdout",
     "output_type": "stream",
     "text": [
      "Time using .replace(): 0.0008881092071533203 sec\n"
     ]
    }
   ],
   "source": [
    "start_time = time.time()\n",
    "\n",
    "# Replace all the entries that has 'FEMALE' as a gender with 'GIRL'\n",
    "names['Gender'].replace('FEMALE', 'GIRL', inplace=True)\n",
    "\n",
    "print(\"Time using .replace(): {} sec\".format(time.time() - start_time))"
   ]
  },
  {
   "cell_type": "markdown",
   "id": "2c307d57",
   "metadata": {},
   "source": [
    "> Using .replce() is much efficient."
   ]
  },
  {
   "cell_type": "markdown",
   "id": "8267bfdd",
   "metadata": {},
   "source": [
    "## Replace values using lists\n"
   ]
  },
  {
   "cell_type": "code",
   "execution_count": 40,
   "id": "95d52b62",
   "metadata": {},
   "outputs": [
    {
     "name": "stdout",
     "output_type": "stream",
     "text": [
      "Replace values using .loc[]: 0.013173103332519531 sec\n"
     ]
    },
    {
     "name": "stderr",
     "output_type": "stream",
     "text": [
      "/var/folders/4n/dll6nv094h5fm4m2lhzkmtd40000gn/T/ipykernel_75379/1231385254.py:2: SettingWithCopyWarning: \n",
      "A value is trying to be set on a copy of a slice from a DataFrame\n",
      "\n",
      "See the caveats in the documentation: https://pandas.pydata.org/pandas-docs/stable/user_guide/indexing.html#returning-a-view-versus-a-copy\n",
      "  names['Ethnicity'].loc[(names['Ethnicity']=='WHITE NON HISPANIC') | (names['Ethnicity'] == 'WHITE NON HISP')] = 'WNH'\n"
     ]
    }
   ],
   "source": [
    "start_time = time.time()\n",
    "names['Ethnicity'].loc[(names['Ethnicity']=='WHITE NON HISPANIC') | (names['Ethnicity'] == 'WHITE NON HISP')] = 'WNH'\n",
    "print(\"Replace values using .loc[]: {} sec\".format(time.time() - start_time))"
   ]
  },
  {
   "cell_type": "code",
   "execution_count": 41,
   "id": "8d797d60",
   "metadata": {},
   "outputs": [
    {
     "name": "stdout",
     "output_type": "stream",
     "text": [
      "Replace values using .loc[]: 0.0010061264038085938 sec\n"
     ]
    }
   ],
   "source": [
    "start_time = time.time()\n",
    "names['Ethnicity'].replace(['WHITE NON HISPANIC', 'WHITE NON HISP', 'WNH'], inplace=True)\n",
    "print(\"Replace values using .loc[]: {} sec\".format(time.time() - start_time))"
   ]
  },
  {
   "cell_type": "markdown",
   "id": "ea128b71",
   "metadata": {},
   "source": [
    "### Replace multiple values I\n"
   ]
  },
  {
   "cell_type": "code",
   "execution_count": 42,
   "id": "6b127aad",
   "metadata": {},
   "outputs": [
    {
     "name": "stdout",
     "output_type": "stream",
     "text": [
      "Time using .loc[]: sec\n"
     ]
    },
    {
     "name": "stderr",
     "output_type": "stream",
     "text": [
      "/var/folders/4n/dll6nv094h5fm4m2lhzkmtd40000gn/T/ipykernel_75379/269819884.py:4: SettingWithCopyWarning: \n",
      "A value is trying to be set on a copy of a slice from a DataFrame\n",
      "\n",
      "See the caveats in the documentation: https://pandas.pydata.org/pandas-docs/stable/user_guide/indexing.html#returning-a-view-versus-a-copy\n",
      "  names['Ethnicity'].loc[(names[\"Ethnicity\"] == 'BLACK NON HISP') |\n"
     ]
    }
   ],
   "source": [
    "start_time = time.time()\n",
    "\n",
    "# Replace all non-Hispanic ethnicities with 'NON HISPANIC'\n",
    "names['Ethnicity'].loc[(names[\"Ethnicity\"] == 'BLACK NON HISP') | \n",
    "                      (names[\"Ethnicity\"] == 'BLACK NON HISPANIC') | \n",
    "                      (names[\"Ethnicity\"] == 'WHITE NON HISP') | \n",
    "                      (names[\"Ethnicity\"] == 'WHITE NON HISPANIC')] = 'NON HISPANIC'\n",
    "end_time = time.time()\n",
    "\n",
    "print(\"Time using .loc[]: sec\".format(end_time - start_time))"
   ]
  },
  {
   "cell_type": "code",
   "execution_count": 43,
   "id": "aa2eefb4",
   "metadata": {},
   "outputs": [
    {
     "name": "stdout",
     "output_type": "stream",
     "text": [
      "Time using .replace(): 0.004023075103759766 sec\n"
     ]
    }
   ],
   "source": [
    "start_time = time.time()\n",
    "\n",
    "# Replace all non-Hispanic ethnicities with 'NON HISPANIC'\n",
    "names['Ethnicity'].replace(['BLACK NON HISP', 'BLACK NON HISPANIC', 'WHITE NON HISP' , 'WHITE NON HISPANIC'], 'NON HISPANIC', inplace=True)\n",
    "\n",
    "print(\"Time using .replace(): {} sec\".format(time.time() - start_time))"
   ]
  },
  {
   "cell_type": "markdown",
   "id": "dc547997",
   "metadata": {},
   "source": [
    "### Replace multiple values II\n"
   ]
  },
  {
   "cell_type": "code",
   "execution_count": 44,
   "id": "6a38e2f7",
   "metadata": {},
   "outputs": [
    {
     "name": "stdout",
     "output_type": "stream",
     "text": [
      "Time using .replace(): 0.00386810302734375 sec\n"
     ]
    }
   ],
   "source": [
    "start_time = time.time()\n",
    "\n",
    "# Replace ethnicities as instructed\n",
    "names['Ethnicity'].replace(['ASIAN AND PACI','BLACK NON HISP', 'WHITE NON HISP'], ['ASIAN AND PACIFIC ISLANDER','BLACK NON HISPANIC','WHITE NON HISPANIC'], inplace=True)\n",
    "\n",
    "print(\"Time using .replace(): {} sec\".format(time.time() - start_time))"
   ]
  },
  {
   "cell_type": "markdown",
   "id": "a264a1d7",
   "metadata": {},
   "source": [
    "## Replace values using dictionaries\n"
   ]
  },
  {
   "cell_type": "markdown",
   "id": "a956ac78",
   "metadata": {},
   "source": [
    "### Replace single values I\n"
   ]
  },
  {
   "cell_type": "code",
   "execution_count": 45,
   "id": "6bc0601c",
   "metadata": {},
   "outputs": [],
   "source": [
    "# # Replace Royal flush or Straight flush to Flush\n",
    "# poker_hands.replace({'Royal flush':'Flush', 'Straight flush':'Flush'}, inplace=True)\n",
    "# print(poker_hands['Explanation'].head())"
   ]
  },
  {
   "cell_type": "code",
   "execution_count": 46,
   "id": "8735dc8e",
   "metadata": {},
   "outputs": [
    {
     "data": {
      "text/html": [
       "<div>\n",
       "<style scoped>\n",
       "    .dataframe tbody tr th:only-of-type {\n",
       "        vertical-align: middle;\n",
       "    }\n",
       "\n",
       "    .dataframe tbody tr th {\n",
       "        vertical-align: top;\n",
       "    }\n",
       "\n",
       "    .dataframe thead th {\n",
       "        text-align: right;\n",
       "    }\n",
       "</style>\n",
       "<table border=\"1\" class=\"dataframe\">\n",
       "  <thead>\n",
       "    <tr style=\"text-align: right;\">\n",
       "      <th></th>\n",
       "      <th>Year of Birth</th>\n",
       "      <th>Gender</th>\n",
       "      <th>Ethnicity</th>\n",
       "      <th>Child's First Name</th>\n",
       "      <th>Count</th>\n",
       "      <th>Rank</th>\n",
       "    </tr>\n",
       "  </thead>\n",
       "  <tbody>\n",
       "    <tr>\n",
       "      <th>0</th>\n",
       "      <td>2011</td>\n",
       "      <td>GIRL</td>\n",
       "      <td>ASIAN AND PACIFIC ISLANDER</td>\n",
       "      <td>SOPHIA</td>\n",
       "      <td>119</td>\n",
       "      <td>FIRST</td>\n",
       "    </tr>\n",
       "    <tr>\n",
       "      <th>1</th>\n",
       "      <td>2011</td>\n",
       "      <td>GIRL</td>\n",
       "      <td>ASIAN AND PACIFIC ISLANDER</td>\n",
       "      <td>CHLOE</td>\n",
       "      <td>106</td>\n",
       "      <td>SECOND</td>\n",
       "    </tr>\n",
       "    <tr>\n",
       "      <th>2</th>\n",
       "      <td>2011</td>\n",
       "      <td>GIRL</td>\n",
       "      <td>ASIAN AND PACIFIC ISLANDER</td>\n",
       "      <td>EMILY</td>\n",
       "      <td>93</td>\n",
       "      <td>THIRD</td>\n",
       "    </tr>\n",
       "    <tr>\n",
       "      <th>3</th>\n",
       "      <td>2011</td>\n",
       "      <td>GIRL</td>\n",
       "      <td>ASIAN AND PACIFIC ISLANDER</td>\n",
       "      <td>OLIVIA</td>\n",
       "      <td>89</td>\n",
       "      <td>4</td>\n",
       "    </tr>\n",
       "    <tr>\n",
       "      <th>4</th>\n",
       "      <td>2011</td>\n",
       "      <td>GIRL</td>\n",
       "      <td>ASIAN AND PACIFIC ISLANDER</td>\n",
       "      <td>EMMA</td>\n",
       "      <td>75</td>\n",
       "      <td>5</td>\n",
       "    </tr>\n",
       "  </tbody>\n",
       "</table>\n",
       "</div>"
      ],
      "text/plain": [
       "   Year of Birth Gender                   Ethnicity Child's First Name  Count  \\\n",
       "0           2011   GIRL  ASIAN AND PACIFIC ISLANDER             SOPHIA    119   \n",
       "1           2011   GIRL  ASIAN AND PACIFIC ISLANDER              CHLOE    106   \n",
       "2           2011   GIRL  ASIAN AND PACIFIC ISLANDER              EMILY     93   \n",
       "3           2011   GIRL  ASIAN AND PACIFIC ISLANDER             OLIVIA     89   \n",
       "4           2011   GIRL  ASIAN AND PACIFIC ISLANDER               EMMA     75   \n",
       "\n",
       "     Rank  \n",
       "0   FIRST  \n",
       "1  SECOND  \n",
       "2   THIRD  \n",
       "3       4  \n",
       "4       5  "
      ]
     },
     "execution_count": 46,
     "metadata": {},
     "output_type": "execute_result"
    }
   ],
   "source": [
    "# Replace the number rank by a string\n",
    "names['Rank'].replace({1:'FIRST', 2:'SECOND', 3:'THIRD'}, inplace=True)\n",
    "names.head()"
   ]
  },
  {
   "cell_type": "markdown",
   "id": "f55caf6d",
   "metadata": {},
   "source": [
    "### Replace multiple values"
   ]
  },
  {
   "cell_type": "code",
   "execution_count": 47,
   "id": "20fcb3e3",
   "metadata": {},
   "outputs": [
    {
     "data": {
      "text/html": [
       "<div>\n",
       "<style scoped>\n",
       "    .dataframe tbody tr th:only-of-type {\n",
       "        vertical-align: middle;\n",
       "    }\n",
       "\n",
       "    .dataframe tbody tr th {\n",
       "        vertical-align: top;\n",
       "    }\n",
       "\n",
       "    .dataframe thead th {\n",
       "        text-align: right;\n",
       "    }\n",
       "</style>\n",
       "<table border=\"1\" class=\"dataframe\">\n",
       "  <thead>\n",
       "    <tr style=\"text-align: right;\">\n",
       "      <th></th>\n",
       "      <th>Year of Birth</th>\n",
       "      <th>Gender</th>\n",
       "      <th>Ethnicity</th>\n",
       "      <th>Child's First Name</th>\n",
       "      <th>Count</th>\n",
       "      <th>Rank</th>\n",
       "    </tr>\n",
       "  </thead>\n",
       "  <tbody>\n",
       "    <tr>\n",
       "      <th>0</th>\n",
       "      <td>2011</td>\n",
       "      <td>GIRL</td>\n",
       "      <td>ASIAN AND PACIFIC ISLANDER</td>\n",
       "      <td>SOPHIA</td>\n",
       "      <td>119</td>\n",
       "      <td>FIRST</td>\n",
       "    </tr>\n",
       "    <tr>\n",
       "      <th>1</th>\n",
       "      <td>2011</td>\n",
       "      <td>GIRL</td>\n",
       "      <td>ASIAN AND PACIFIC ISLANDER</td>\n",
       "      <td>CHLOE</td>\n",
       "      <td>106</td>\n",
       "      <td>SECOND</td>\n",
       "    </tr>\n",
       "    <tr>\n",
       "      <th>2</th>\n",
       "      <td>2011</td>\n",
       "      <td>GIRL</td>\n",
       "      <td>ASIAN AND PACIFIC ISLANDER</td>\n",
       "      <td>EMILY</td>\n",
       "      <td>93</td>\n",
       "      <td>THIRD</td>\n",
       "    </tr>\n",
       "    <tr>\n",
       "      <th>3</th>\n",
       "      <td>2011</td>\n",
       "      <td>GIRL</td>\n",
       "      <td>ASIAN AND PACIFIC ISLANDER</td>\n",
       "      <td>OLIVIA</td>\n",
       "      <td>89</td>\n",
       "      <td>ALMOST MEDAL</td>\n",
       "    </tr>\n",
       "    <tr>\n",
       "      <th>4</th>\n",
       "      <td>2011</td>\n",
       "      <td>GIRL</td>\n",
       "      <td>ASIAN AND PACIFIC ISLANDER</td>\n",
       "      <td>EMMA</td>\n",
       "      <td>75</td>\n",
       "      <td>ALMOST MEDAL</td>\n",
       "    </tr>\n",
       "  </tbody>\n",
       "</table>\n",
       "</div>"
      ],
      "text/plain": [
       "   Year of Birth Gender                   Ethnicity Child's First Name  Count  \\\n",
       "0           2011   GIRL  ASIAN AND PACIFIC ISLANDER             SOPHIA    119   \n",
       "1           2011   GIRL  ASIAN AND PACIFIC ISLANDER              CHLOE    106   \n",
       "2           2011   GIRL  ASIAN AND PACIFIC ISLANDER              EMILY     93   \n",
       "3           2011   GIRL  ASIAN AND PACIFIC ISLANDER             OLIVIA     89   \n",
       "4           2011   GIRL  ASIAN AND PACIFIC ISLANDER               EMMA     75   \n",
       "\n",
       "           Rank  \n",
       "0         FIRST  \n",
       "1        SECOND  \n",
       "2         THIRD  \n",
       "3  ALMOST MEDAL  \n",
       "4  ALMOST MEDAL  "
      ]
     },
     "execution_count": 47,
     "metadata": {},
     "output_type": "execute_result"
    }
   ],
   "source": [
    "# Replace the rank of the first three ranked names to 'MEDAL'\n",
    "names.replace({'Rank': {1:'MEDAL', 2:'MEDAL', 3:'MEDAL'}}, inplace=True)\n",
    "\n",
    "# Replace the rank of the 4th and 5th ranked names to 'ALMOST MEDAL'\n",
    "names.replace({'Rank': {4:'ALMOST MEDAL', 5:'ALMOST MEDAL'}}, inplace=True)\n",
    "names.head()"
   ]
  },
  {
   "cell_type": "markdown",
   "id": "531e25db",
   "metadata": {},
   "source": [
    "> Replace scalar values using dictionaries is more efficient."
   ]
  },
  {
   "cell_type": "markdown",
   "id": "dce4ac70",
   "metadata": {},
   "source": [
    "# 3. Efficient iterating\n",
    "## Looping using the .iterrows() function\n",
    "\n"
   ]
  },
  {
   "cell_type": "markdown",
   "id": "74354d8e",
   "metadata": {},
   "source": [
    "## Create a generator for a pandas DataFrame\n"
   ]
  },
  {
   "cell_type": "code",
   "execution_count": 48,
   "id": "5332013a",
   "metadata": {},
   "outputs": [
    {
     "data": {
      "text/plain": [
       "((0,\n",
       "  S1        1\n",
       "  R1       10\n",
       "  S2        1\n",
       "  R2       11\n",
       "  S3        1\n",
       "  R3       13\n",
       "  S4        1\n",
       "  R4       12\n",
       "  S5        1\n",
       "  R5        1\n",
       "  Class     9\n",
       "  Name: 0, dtype: int64),\n",
       " (1,\n",
       "  S1        2\n",
       "  R1       11\n",
       "  S2        2\n",
       "  R2       13\n",
       "  S3        2\n",
       "  R3       10\n",
       "  S4        2\n",
       "  R4       12\n",
       "  S5        2\n",
       "  R5        1\n",
       "  Class     9\n",
       "  Name: 1, dtype: int64))"
      ]
     },
     "execution_count": 48,
     "metadata": {},
     "output_type": "execute_result"
    }
   ],
   "source": [
    "# Create a generator over the rows\n",
    "generator = poker_hands.iterrows()\n",
    "\n",
    "# Access the elements of the 2nd row\n",
    "first_element = next(generator)\n",
    "second_element = next(generator)\n",
    "first_element, second_element"
   ]
  },
  {
   "cell_type": "markdown",
   "id": "4e992f31",
   "metadata": {},
   "source": [
    "### The iterrows() function for looping\n"
   ]
  },
  {
   "cell_type": "code",
   "execution_count": 49,
   "id": "0de71dd1",
   "metadata": {},
   "outputs": [],
   "source": [
    "data_generator = poker_hands.iterrows()\n",
    "\n",
    "for index, values in data_generator:\n",
    "  \t# Check if index is odd\n",
    "    if index % 2 != 0:\n",
    "      \t# Sum the ranks of all the cards\n",
    "        hand_sum = sum([values[1], values[3], values[5], values[7], values[9]])"
   ]
  },
  {
   "cell_type": "code",
   "execution_count": 50,
   "id": "1074ecf3",
   "metadata": {},
   "outputs": [
    {
     "data": {
      "text/plain": [
       "36"
      ]
     },
     "execution_count": 50,
     "metadata": {},
     "output_type": "execute_result"
    }
   ],
   "source": [
    "hand_sum"
   ]
  },
  {
   "cell_type": "markdown",
   "id": "a79e5a76",
   "metadata": {},
   "source": [
    "## Looping using the .apply() function\n"
   ]
  },
  {
   "cell_type": "code",
   "execution_count": 51,
   "id": "cf2cbf6d",
   "metadata": {},
   "outputs": [
    {
     "name": "stderr",
     "output_type": "stream",
     "text": [
      "/opt/miniconda3/lib/python3.9/site-packages/pandas/core/arraylike.py:397: RuntimeWarning: invalid value encountered in sqrt\n",
      "  result = getattr(ufunc, method)(*inputs, **kwargs)\n"
     ]
    },
    {
     "data": {
      "text/html": [
       "<div>\n",
       "<style scoped>\n",
       "    .dataframe tbody tr th:only-of-type {\n",
       "        vertical-align: middle;\n",
       "    }\n",
       "\n",
       "    .dataframe tbody tr th {\n",
       "        vertical-align: top;\n",
       "    }\n",
       "\n",
       "    .dataframe thead th {\n",
       "        text-align: right;\n",
       "    }\n",
       "</style>\n",
       "<table border=\"1\" class=\"dataframe\">\n",
       "  <thead>\n",
       "    <tr style=\"text-align: right;\">\n",
       "      <th></th>\n",
       "      <th>S1</th>\n",
       "      <th>R1</th>\n",
       "      <th>S2</th>\n",
       "      <th>R2</th>\n",
       "      <th>S3</th>\n",
       "      <th>R3</th>\n",
       "      <th>S4</th>\n",
       "      <th>R4</th>\n",
       "      <th>S5</th>\n",
       "      <th>R5</th>\n",
       "      <th>Class</th>\n",
       "    </tr>\n",
       "  </thead>\n",
       "  <tbody>\n",
       "    <tr>\n",
       "      <th>0</th>\n",
       "      <td>1.000000</td>\n",
       "      <td>3.162278</td>\n",
       "      <td>1.000000</td>\n",
       "      <td>3.316625</td>\n",
       "      <td>1.000000</td>\n",
       "      <td>3.605551</td>\n",
       "      <td>1.000000</td>\n",
       "      <td>3.464102</td>\n",
       "      <td>1.000000</td>\n",
       "      <td>1.000000</td>\n",
       "      <td>3.0</td>\n",
       "    </tr>\n",
       "    <tr>\n",
       "      <th>1</th>\n",
       "      <td>1.414214</td>\n",
       "      <td>3.316625</td>\n",
       "      <td>1.414214</td>\n",
       "      <td>3.605551</td>\n",
       "      <td>1.414214</td>\n",
       "      <td>3.162278</td>\n",
       "      <td>1.414214</td>\n",
       "      <td>3.464102</td>\n",
       "      <td>1.414214</td>\n",
       "      <td>1.000000</td>\n",
       "      <td>3.0</td>\n",
       "    </tr>\n",
       "    <tr>\n",
       "      <th>2</th>\n",
       "      <td>1.732051</td>\n",
       "      <td>3.464102</td>\n",
       "      <td>1.732051</td>\n",
       "      <td>3.316625</td>\n",
       "      <td>1.732051</td>\n",
       "      <td>3.605551</td>\n",
       "      <td>1.732051</td>\n",
       "      <td>3.162278</td>\n",
       "      <td>1.732051</td>\n",
       "      <td>1.000000</td>\n",
       "      <td>3.0</td>\n",
       "    </tr>\n",
       "    <tr>\n",
       "      <th>3</th>\n",
       "      <td>2.000000</td>\n",
       "      <td>3.162278</td>\n",
       "      <td>2.000000</td>\n",
       "      <td>3.316625</td>\n",
       "      <td>2.000000</td>\n",
       "      <td>1.000000</td>\n",
       "      <td>2.000000</td>\n",
       "      <td>3.605551</td>\n",
       "      <td>2.000000</td>\n",
       "      <td>3.464102</td>\n",
       "      <td>3.0</td>\n",
       "    </tr>\n",
       "    <tr>\n",
       "      <th>4</th>\n",
       "      <td>2.000000</td>\n",
       "      <td>1.000000</td>\n",
       "      <td>2.000000</td>\n",
       "      <td>3.605551</td>\n",
       "      <td>2.000000</td>\n",
       "      <td>3.464102</td>\n",
       "      <td>2.000000</td>\n",
       "      <td>3.316625</td>\n",
       "      <td>2.000000</td>\n",
       "      <td>3.162278</td>\n",
       "      <td>3.0</td>\n",
       "    </tr>\n",
       "  </tbody>\n",
       "</table>\n",
       "</div>"
      ],
      "text/plain": [
       "         S1        R1        S2        R2        S3        R3        S4  \\\n",
       "0  1.000000  3.162278  1.000000  3.316625  1.000000  3.605551  1.000000   \n",
       "1  1.414214  3.316625  1.414214  3.605551  1.414214  3.162278  1.414214   \n",
       "2  1.732051  3.464102  1.732051  3.316625  1.732051  3.605551  1.732051   \n",
       "3  2.000000  3.162278  2.000000  3.316625  2.000000  1.000000  2.000000   \n",
       "4  2.000000  1.000000  2.000000  3.605551  2.000000  3.464102  2.000000   \n",
       "\n",
       "         R4        S5        R5  Class  \n",
       "0  3.464102  1.000000  1.000000    3.0  \n",
       "1  3.464102  1.414214  1.000000    3.0  \n",
       "2  3.162278  1.732051  1.000000    3.0  \n",
       "3  3.605551  2.000000  3.464102    3.0  \n",
       "4  3.316625  2.000000  3.162278    3.0  "
      ]
     },
     "execution_count": 51,
     "metadata": {},
     "output_type": "execute_result"
    }
   ],
   "source": [
    "data_sqrt = poker.apply(lambda x: np.sqrt(x))\n",
    "data_sqrt.head()"
   ]
  },
  {
   "cell_type": "code",
   "execution_count": 52,
   "id": "f5eb7e8e",
   "metadata": {},
   "outputs": [
    {
     "name": "stdout",
     "output_type": "stream",
     "text": [
      "Time using .apply(): 0.22815513610839844 sec\n"
     ]
    }
   ],
   "source": [
    "apply_start = time.time()\n",
    "poker[['R1','R2','R3','R4','R5']].apply(lambda x: sum(x), axis=1)\n",
    "print(\"Time using .apply(): {} sec\".format(time.time() - apply_start))"
   ]
  },
  {
   "cell_type": "code",
   "execution_count": 53,
   "id": "f6827524",
   "metadata": {},
   "outputs": [
    {
     "name": "stdout",
     "output_type": "stream",
     "text": [
      "Time using .iterrows(): 1.2640118598937988 sec\n"
     ]
    }
   ],
   "source": [
    "loop_start = time.time()\n",
    "for ind, value in poker.iterrows():\n",
    "    sum([value[1],value[3],value[5],value[7],value[9]])\n",
    "print(\"Time using .iterrows(): {} sec\".format(time.time() - loop_start))"
   ]
  },
  {
   "cell_type": "markdown",
   "id": "ff67003e",
   "metadata": {},
   "source": [
    "### .apply() function in every cell\n"
   ]
  },
  {
   "cell_type": "code",
   "execution_count": 54,
   "id": "c6dac169",
   "metadata": {
    "scrolled": true
   },
   "outputs": [
    {
     "data": {
      "text/html": [
       "<div>\n",
       "<style scoped>\n",
       "    .dataframe tbody tr th:only-of-type {\n",
       "        vertical-align: middle;\n",
       "    }\n",
       "\n",
       "    .dataframe tbody tr th {\n",
       "        vertical-align: top;\n",
       "    }\n",
       "\n",
       "    .dataframe thead th {\n",
       "        text-align: right;\n",
       "    }\n",
       "</style>\n",
       "<table border=\"1\" class=\"dataframe\">\n",
       "  <thead>\n",
       "    <tr style=\"text-align: right;\">\n",
       "      <th></th>\n",
       "      <th>S1</th>\n",
       "      <th>R1</th>\n",
       "      <th>S2</th>\n",
       "      <th>R2</th>\n",
       "      <th>S3</th>\n",
       "      <th>R3</th>\n",
       "      <th>S4</th>\n",
       "      <th>R4</th>\n",
       "      <th>S5</th>\n",
       "      <th>R5</th>\n",
       "      <th>Class</th>\n",
       "    </tr>\n",
       "  </thead>\n",
       "  <tbody>\n",
       "    <tr>\n",
       "      <th>0</th>\n",
       "      <td>1</td>\n",
       "      <td>100</td>\n",
       "      <td>1</td>\n",
       "      <td>121</td>\n",
       "      <td>1</td>\n",
       "      <td>169</td>\n",
       "      <td>1</td>\n",
       "      <td>144</td>\n",
       "      <td>1</td>\n",
       "      <td>1</td>\n",
       "      <td>81</td>\n",
       "    </tr>\n",
       "    <tr>\n",
       "      <th>1</th>\n",
       "      <td>4</td>\n",
       "      <td>121</td>\n",
       "      <td>4</td>\n",
       "      <td>169</td>\n",
       "      <td>4</td>\n",
       "      <td>100</td>\n",
       "      <td>4</td>\n",
       "      <td>144</td>\n",
       "      <td>4</td>\n",
       "      <td>1</td>\n",
       "      <td>81</td>\n",
       "    </tr>\n",
       "    <tr>\n",
       "      <th>2</th>\n",
       "      <td>9</td>\n",
       "      <td>144</td>\n",
       "      <td>9</td>\n",
       "      <td>121</td>\n",
       "      <td>9</td>\n",
       "      <td>169</td>\n",
       "      <td>9</td>\n",
       "      <td>100</td>\n",
       "      <td>9</td>\n",
       "      <td>1</td>\n",
       "      <td>81</td>\n",
       "    </tr>\n",
       "    <tr>\n",
       "      <th>3</th>\n",
       "      <td>16</td>\n",
       "      <td>100</td>\n",
       "      <td>16</td>\n",
       "      <td>121</td>\n",
       "      <td>16</td>\n",
       "      <td>1</td>\n",
       "      <td>16</td>\n",
       "      <td>169</td>\n",
       "      <td>16</td>\n",
       "      <td>144</td>\n",
       "      <td>81</td>\n",
       "    </tr>\n",
       "    <tr>\n",
       "      <th>4</th>\n",
       "      <td>16</td>\n",
       "      <td>1</td>\n",
       "      <td>16</td>\n",
       "      <td>169</td>\n",
       "      <td>16</td>\n",
       "      <td>144</td>\n",
       "      <td>16</td>\n",
       "      <td>121</td>\n",
       "      <td>16</td>\n",
       "      <td>100</td>\n",
       "      <td>81</td>\n",
       "    </tr>\n",
       "  </tbody>\n",
       "</table>\n",
       "</div>"
      ],
      "text/plain": [
       "   S1   R1  S2   R2  S3   R3  S4   R4  S5   R5  Class\n",
       "0   1  100   1  121   1  169   1  144   1    1     81\n",
       "1   4  121   4  169   4  100   4  144   4    1     81\n",
       "2   9  144   9  121   9  169   9  100   9    1     81\n",
       "3  16  100  16  121  16    1  16  169  16  144     81\n",
       "4  16    1  16  169  16  144  16  121  16  100     81"
      ]
     },
     "execution_count": 54,
     "metadata": {},
     "output_type": "execute_result"
    }
   ],
   "source": [
    "# Define the lambda transformation\n",
    "get_square = lambda x: x**2\n",
    "\n",
    "# Apply the transformation\n",
    "data_sum = poker_hands.apply(get_square)\n",
    "data_sum.head()"
   ]
  },
  {
   "cell_type": "markdown",
   "id": "7802b2a8",
   "metadata": {},
   "source": [
    "### .apply() for rows iteration\n"
   ]
  },
  {
   "cell_type": "code",
   "execution_count": 55,
   "id": "f9437be9",
   "metadata": {},
   "outputs": [
    {
     "data": {
      "text/plain": [
       "0    18.64\n",
       "1    18.64\n",
       "2    18.64\n",
       "3    18.64\n",
       "4    18.64\n",
       "dtype: float64"
      ]
     },
     "execution_count": 55,
     "metadata": {},
     "output_type": "execute_result"
    }
   ],
   "source": [
    "# Define the lambda transformation\n",
    "get_variance = lambda x: np.var(x)\n",
    "\n",
    "# Apply the transformation for every row.\n",
    "data_tr = poker_hands[['R1', 'R2', 'R3', 'R4', 'R5']].apply(get_variance, axis=1)\n",
    "data_tr.head()"
   ]
  },
  {
   "cell_type": "code",
   "execution_count": 56,
   "id": "a54379d8",
   "metadata": {},
   "outputs": [
    {
     "data": {
      "text/plain": [
       "R1    14.060473\n",
       "R2    14.189523\n",
       "R3    14.024270\n",
       "R4    14.040552\n",
       "R5    13.998851\n",
       "dtype: float64"
      ]
     },
     "execution_count": 56,
     "metadata": {},
     "output_type": "execute_result"
    }
   ],
   "source": [
    "get_variance = lambda x: np.var(x)\n",
    "\n",
    "# Apply the transformation to Modify the script to apply the function on every rank.\n",
    "data_tr = poker_hands[['R1', 'R2', 'R3', 'R4', 'R5']].apply(get_variance, axis=0)\n",
    "data_tr.head()"
   ]
  },
  {
   "cell_type": "markdown",
   "id": "04dc0c05",
   "metadata": {},
   "source": [
    "## Vectorization over pandas series\n"
   ]
  },
  {
   "cell_type": "code",
   "execution_count": 57,
   "id": "0b014e72",
   "metadata": {},
   "outputs": [
    {
     "name": "stdout",
     "output_type": "stream",
     "text": [
      "Time using pandas vectorization: 0.002288818359375 sec\n"
     ]
    }
   ],
   "source": [
    "start_time = time.time()\n",
    "poker[['R1','R2','R3','R4','R5']].sum(axis=1) # for every row\n",
    "print(\"Time using pandas vectorization: {} sec\".format(time.time() - start_time))"
   ]
  },
  {
   "cell_type": "code",
   "execution_count": 58,
   "id": "2180c358",
   "metadata": {},
   "outputs": [
    {
     "data": {
      "text/plain": [
       "0    47\n",
       "1    47\n",
       "2    47\n",
       "3    47\n",
       "4    47\n",
       "dtype: int64"
      ]
     },
     "execution_count": 58,
     "metadata": {},
     "output_type": "execute_result"
    }
   ],
   "source": [
    "poker[['R1','R2','R3','R4','R5']].sum(axis=1).head()"
   ]
  },
  {
   "cell_type": "markdown",
   "id": "f0d30a90",
   "metadata": {},
   "source": [
    "> In comparison to previous methods, vectorization performs a lot better. 'Cause fewer operations are required due to optimization in pandas."
   ]
  },
  {
   "cell_type": "markdown",
   "id": "e27f57e2",
   "metadata": {},
   "source": [
    "### pandas vectorization in action\n"
   ]
  },
  {
   "cell_type": "code",
   "execution_count": 59,
   "id": "53bae529",
   "metadata": {},
   "outputs": [
    {
     "name": "stdout",
     "output_type": "stream",
     "text": [
      "Time using pandas vectorization for rows: 0.002249002456665039 sec\n",
      "0    9.4\n",
      "1    9.4\n",
      "2    9.4\n",
      "3    9.4\n",
      "4    9.4\n",
      "dtype: float64\n"
     ]
    }
   ],
   "source": [
    "# Calculate the mean rank in each hand\n",
    "row_start_time = time.time()\n",
    "mean_r = poker_hands[['R1', 'R2', 'R3', 'R4', 'R5']].mean(axis=1)\n",
    "print(\"Time using pandas vectorization for rows: {} sec\".format(time.time() - row_start_time))\n",
    "print(mean_r.head())"
   ]
  },
  {
   "cell_type": "code",
   "execution_count": 60,
   "id": "b6a3f862",
   "metadata": {},
   "outputs": [
    {
     "name": "stdout",
     "output_type": "stream",
     "text": [
      "Time using pandas vectorization for columns: 0.0027179718017578125 sec\n",
      "R1    6.995242\n",
      "R2    7.014194\n",
      "R3    7.014154\n",
      "R4    6.942463\n",
      "R5    6.962735\n",
      "dtype: float64\n"
     ]
    }
   ],
   "source": [
    "# Calculate the mean rank of each of the 5 card in all hands\n",
    "col_start_time = time.time()\n",
    "mean_c = poker_hands[['R1', 'R2', 'R3', 'R4', 'R5']].mean(axis=0)\n",
    "print(\"Time using pandas vectorization for columns: {} sec\".format(time.time() - col_start_time))\n",
    "print(mean_c.head())"
   ]
  },
  {
   "cell_type": "markdown",
   "id": "fabf5216",
   "metadata": {},
   "source": [
    "## Vectorization with NumPy arrays using .values()\n"
   ]
  },
  {
   "cell_type": "code",
   "execution_count": 61,
   "id": "71f56fc5",
   "metadata": {},
   "outputs": [
    {
     "name": "stdout",
     "output_type": "stream",
     "text": [
      "Time using Numpy vectorization: 0.002470254898071289 sec\n"
     ]
    }
   ],
   "source": [
    "start_time = time.time()\n",
    "poker[['R1','R2','R3','R4','R5']].values.sum(axis=1) # for every row\n",
    "print(\"Time using Numpy vectorization: {} sec\".format(time.time() - start_time))"
   ]
  },
  {
   "cell_type": "code",
   "execution_count": 62,
   "id": "d2ec3e3e",
   "metadata": {},
   "outputs": [
    {
     "name": "stdout",
     "output_type": "stream",
     "text": [
      "Time using pandas vectorization: 0.005274772644042969 sec\n"
     ]
    }
   ],
   "source": [
    "start_time = time.time()\n",
    "poker[['R1','R2','R3','R4','R5']].sum(axis=1) # for every row\n",
    "print(\"Time using pandas vectorization: {} sec\".format(time.time() - start_time))"
   ]
  },
  {
   "cell_type": "markdown",
   "id": "19b2e7ab",
   "metadata": {},
   "source": [
    "> A little bit of an improvement using Numpy arrays\n",
    "\n",
    "> Vectorization over NumPy ndarrays can be used to replace vectorization over pandas Series, when operations like indexing or data type are not used."
   ]
  },
  {
   "cell_type": "markdown",
   "id": "718771aa",
   "metadata": {},
   "source": [
    "### Vectorization methods for looping a DataFrame\n"
   ]
  },
  {
   "cell_type": "code",
   "execution_count": 63,
   "id": "30987ed9",
   "metadata": {},
   "outputs": [
    {
     "name": "stdout",
     "output_type": "stream",
     "text": [
      "Time using pandas vectorization: 0.003081083297729492 sec\n",
      "0    23.3\n",
      "1    23.3\n",
      "2    23.3\n",
      "3    23.3\n",
      "4    23.3\n",
      "dtype: float64\n"
     ]
    }
   ],
   "source": [
    "# Calculate the variance in each hand\n",
    "start_time = time.time()\n",
    "poker_var = poker_hands[['R1','R2','R3','R4','R5']].var(axis=1)\n",
    "print(\"Time using pandas vectorization: {} sec\".format(time.time() - start_time))\n",
    "print(poker_var.head())"
   ]
  },
  {
   "cell_type": "code",
   "execution_count": 64,
   "id": "ceeaef2d",
   "metadata": {},
   "outputs": [
    {
     "name": "stdout",
     "output_type": "stream",
     "text": [
      "Time using NumPy vectorization: 0.006050825119018555 sec\n",
      "[23.3 23.3 23.3 23.3 23.3]\n"
     ]
    }
   ],
   "source": [
    "# Calculate the variance in each hand\n",
    "start_time = time.time()\n",
    "poker_var = poker_hands[['R1','R2','R3','R4','R5']].values.var(axis=1, ddof=1)\n",
    "print(\"Time using NumPy vectorization: {} sec\".format(time.time() - start_time))\n",
    "print(poker_var[0:5])"
   ]
  },
  {
   "cell_type": "markdown",
   "id": "2511428d",
   "metadata": {},
   "source": [
    "# 4. Data manipulation using .groupby()\n",
    "## Data transformation using .groupby().transform\n",
    "\n"
   ]
  },
  {
   "cell_type": "code",
   "execution_count": 65,
   "id": "4cc29b3a",
   "metadata": {},
   "outputs": [
    {
     "data": {
      "text/html": [
       "<div>\n",
       "<style scoped>\n",
       "    .dataframe tbody tr th:only-of-type {\n",
       "        vertical-align: middle;\n",
       "    }\n",
       "\n",
       "    .dataframe tbody tr th {\n",
       "        vertical-align: top;\n",
       "    }\n",
       "\n",
       "    .dataframe thead th {\n",
       "        text-align: right;\n",
       "    }\n",
       "</style>\n",
       "<table border=\"1\" class=\"dataframe\">\n",
       "  <thead>\n",
       "    <tr style=\"text-align: right;\">\n",
       "      <th></th>\n",
       "      <th>total_bill</th>\n",
       "      <th>tip</th>\n",
       "      <th>sex</th>\n",
       "      <th>smoker</th>\n",
       "      <th>day</th>\n",
       "      <th>time</th>\n",
       "      <th>size</th>\n",
       "    </tr>\n",
       "  </thead>\n",
       "  <tbody>\n",
       "    <tr>\n",
       "      <th>0</th>\n",
       "      <td>16.99</td>\n",
       "      <td>1.01</td>\n",
       "      <td>Female</td>\n",
       "      <td>No</td>\n",
       "      <td>Sun</td>\n",
       "      <td>Dinner</td>\n",
       "      <td>2</td>\n",
       "    </tr>\n",
       "    <tr>\n",
       "      <th>1</th>\n",
       "      <td>10.34</td>\n",
       "      <td>1.66</td>\n",
       "      <td>Male</td>\n",
       "      <td>No</td>\n",
       "      <td>Sun</td>\n",
       "      <td>Dinner</td>\n",
       "      <td>3</td>\n",
       "    </tr>\n",
       "    <tr>\n",
       "      <th>2</th>\n",
       "      <td>21.01</td>\n",
       "      <td>3.50</td>\n",
       "      <td>Male</td>\n",
       "      <td>No</td>\n",
       "      <td>Sun</td>\n",
       "      <td>Dinner</td>\n",
       "      <td>3</td>\n",
       "    </tr>\n",
       "    <tr>\n",
       "      <th>3</th>\n",
       "      <td>23.68</td>\n",
       "      <td>3.31</td>\n",
       "      <td>Male</td>\n",
       "      <td>No</td>\n",
       "      <td>Sun</td>\n",
       "      <td>Dinner</td>\n",
       "      <td>2</td>\n",
       "    </tr>\n",
       "    <tr>\n",
       "      <th>4</th>\n",
       "      <td>24.59</td>\n",
       "      <td>3.61</td>\n",
       "      <td>Female</td>\n",
       "      <td>No</td>\n",
       "      <td>Sun</td>\n",
       "      <td>Dinner</td>\n",
       "      <td>4</td>\n",
       "    </tr>\n",
       "  </tbody>\n",
       "</table>\n",
       "</div>"
      ],
      "text/plain": [
       "   total_bill   tip     sex smoker  day    time  size\n",
       "0       16.99  1.01  Female     No  Sun  Dinner     2\n",
       "1       10.34  1.66    Male     No  Sun  Dinner     3\n",
       "2       21.01  3.50    Male     No  Sun  Dinner     3\n",
       "3       23.68  3.31    Male     No  Sun  Dinner     2\n",
       "4       24.59  3.61  Female     No  Sun  Dinner     4"
      ]
     },
     "execution_count": 65,
     "metadata": {},
     "output_type": "execute_result"
    }
   ],
   "source": [
    "restaurant = pd.read_csv('restaurant_data.csv')\n",
    "restaurant.head()"
   ]
  },
  {
   "cell_type": "code",
   "execution_count": 66,
   "id": "685840bd",
   "metadata": {},
   "outputs": [
    {
     "data": {
      "text/html": [
       "<div>\n",
       "<style scoped>\n",
       "    .dataframe tbody tr th:only-of-type {\n",
       "        vertical-align: middle;\n",
       "    }\n",
       "\n",
       "    .dataframe tbody tr th {\n",
       "        vertical-align: top;\n",
       "    }\n",
       "\n",
       "    .dataframe thead th {\n",
       "        text-align: right;\n",
       "    }\n",
       "</style>\n",
       "<table border=\"1\" class=\"dataframe\">\n",
       "  <thead>\n",
       "    <tr style=\"text-align: right;\">\n",
       "      <th></th>\n",
       "      <th>total_bill</th>\n",
       "      <th>tip</th>\n",
       "      <th>sex</th>\n",
       "      <th>day</th>\n",
       "      <th>time</th>\n",
       "      <th>size</th>\n",
       "    </tr>\n",
       "    <tr>\n",
       "      <th>smoker</th>\n",
       "      <th></th>\n",
       "      <th></th>\n",
       "      <th></th>\n",
       "      <th></th>\n",
       "      <th></th>\n",
       "      <th></th>\n",
       "    </tr>\n",
       "  </thead>\n",
       "  <tbody>\n",
       "    <tr>\n",
       "      <th>No</th>\n",
       "      <td>151</td>\n",
       "      <td>151</td>\n",
       "      <td>151</td>\n",
       "      <td>151</td>\n",
       "      <td>151</td>\n",
       "      <td>151</td>\n",
       "    </tr>\n",
       "    <tr>\n",
       "      <th>Yes</th>\n",
       "      <td>93</td>\n",
       "      <td>93</td>\n",
       "      <td>93</td>\n",
       "      <td>93</td>\n",
       "      <td>93</td>\n",
       "      <td>93</td>\n",
       "    </tr>\n",
       "  </tbody>\n",
       "</table>\n",
       "</div>"
      ],
      "text/plain": [
       "        total_bill  tip  sex  day  time  size\n",
       "smoker                                       \n",
       "No             151  151  151  151   151   151\n",
       "Yes             93   93   93   93    93    93"
      ]
     },
     "execution_count": 66,
     "metadata": {},
     "output_type": "execute_result"
    }
   ],
   "source": [
    "restaurant_grouped = restaurant.groupby('smoker')\n",
    "restaurant_grouped.count()"
   ]
  },
  {
   "cell_type": "code",
   "execution_count": 67,
   "id": "c86f06bc",
   "metadata": {
    "scrolled": true
   },
   "outputs": [
    {
     "name": "stderr",
     "output_type": "stream",
     "text": [
      "/var/folders/4n/dll6nv094h5fm4m2lhzkmtd40000gn/T/ipykernel_75379/1763323561.py:4: FutureWarning: Dropping invalid columns in DataFrameGroupBy.transform is deprecated. In a future version, a TypeError will be raised. Before calling .transform, select only columns which should be valid for the function.\n",
      "  restaurant_transformed = restaurant_grouped.transform(zscore)\n"
     ]
    },
    {
     "data": {
      "text/html": [
       "<div>\n",
       "<style scoped>\n",
       "    .dataframe tbody tr th:only-of-type {\n",
       "        vertical-align: middle;\n",
       "    }\n",
       "\n",
       "    .dataframe tbody tr th {\n",
       "        vertical-align: top;\n",
       "    }\n",
       "\n",
       "    .dataframe thead th {\n",
       "        text-align: right;\n",
       "    }\n",
       "</style>\n",
       "<table border=\"1\" class=\"dataframe\">\n",
       "  <thead>\n",
       "    <tr style=\"text-align: right;\">\n",
       "      <th></th>\n",
       "      <th>total_bill</th>\n",
       "      <th>tip</th>\n",
       "      <th>size</th>\n",
       "    </tr>\n",
       "  </thead>\n",
       "  <tbody>\n",
       "    <tr>\n",
       "      <th>0</th>\n",
       "      <td>-0.416446</td>\n",
       "      <td>-1.457045</td>\n",
       "      <td>-0.692873</td>\n",
       "    </tr>\n",
       "    <tr>\n",
       "      <th>1</th>\n",
       "      <td>-1.143855</td>\n",
       "      <td>-1.004475</td>\n",
       "      <td>0.405737</td>\n",
       "    </tr>\n",
       "    <tr>\n",
       "      <th>2</th>\n",
       "      <td>0.023282</td>\n",
       "      <td>0.276645</td>\n",
       "      <td>0.405737</td>\n",
       "    </tr>\n",
       "    <tr>\n",
       "      <th>3</th>\n",
       "      <td>0.315339</td>\n",
       "      <td>0.144355</td>\n",
       "      <td>-0.692873</td>\n",
       "    </tr>\n",
       "    <tr>\n",
       "      <th>4</th>\n",
       "      <td>0.414880</td>\n",
       "      <td>0.353234</td>\n",
       "      <td>1.504347</td>\n",
       "    </tr>\n",
       "  </tbody>\n",
       "</table>\n",
       "</div>"
      ],
      "text/plain": [
       "   total_bill       tip      size\n",
       "0   -0.416446 -1.457045 -0.692873\n",
       "1   -1.143855 -1.004475  0.405737\n",
       "2    0.023282  0.276645  0.405737\n",
       "3    0.315339  0.144355 -0.692873\n",
       "4    0.414880  0.353234  1.504347"
      ]
     },
     "execution_count": 67,
     "metadata": {},
     "output_type": "execute_result"
    }
   ],
   "source": [
    "zscore = lambda x: (x - x.mean()) / x.std()\n",
    "\n",
    "restaurant_grouped = restaurant.groupby('time')\n",
    "restaurant_transformed = restaurant_grouped.transform(zscore)\n",
    "restaurant_transformed.head()"
   ]
  },
  {
   "cell_type": "markdown",
   "id": "1bea0436",
   "metadata": {},
   "source": [
    "### The min-max normalization using .transform()\n"
   ]
  },
  {
   "cell_type": "code",
   "execution_count": 68,
   "id": "738a8744",
   "metadata": {},
   "outputs": [],
   "source": [
    "restaurant_data = pd.read_csv('restaurant_data.csv')"
   ]
  },
  {
   "cell_type": "code",
   "execution_count": 69,
   "id": "452435b1",
   "metadata": {},
   "outputs": [
    {
     "name": "stdout",
     "output_type": "stream",
     "text": [
      "   total_bill       tip  size\n",
      "0    0.291579  0.001111   0.2\n",
      "1    0.152283  0.073333   0.4\n",
      "2    0.375786  0.277778   0.4\n",
      "3    0.431713  0.256667   0.2\n",
      "4    0.450775  0.290000   0.6\n"
     ]
    },
    {
     "name": "stderr",
     "output_type": "stream",
     "text": [
      "/var/folders/4n/dll6nv094h5fm4m2lhzkmtd40000gn/T/ipykernel_75379/2972687277.py:8: FutureWarning: Dropping invalid columns in DataFrameGroupBy.transform is deprecated. In a future version, a TypeError will be raised. Before calling .transform, select only columns which should be valid for the function.\n",
      "  restaurant_min_max_group = restaurant_grouped.transform(min_max_tr)\n"
     ]
    }
   ],
   "source": [
    "# Define the min-max transformation\n",
    "min_max_tr = lambda x: (x - x.min()) / (x.max() - x.min())\n",
    "\n",
    "# Group the data according to the time\n",
    "restaurant_grouped = restaurant_data.groupby('time')\n",
    "\n",
    "# Apply the transformation\n",
    "restaurant_min_max_group = restaurant_grouped.transform(min_max_tr)\n",
    "print(restaurant_min_max_group.head())"
   ]
  },
  {
   "cell_type": "markdown",
   "id": "fff6e9f7",
   "metadata": {},
   "source": [
    "### Transforming values to probabilities\n"
   ]
  },
  {
   "cell_type": "code",
   "execution_count": 70,
   "id": "5d772753",
   "metadata": {},
   "outputs": [
    {
     "name": "stdout",
     "output_type": "stream",
     "text": [
      "0    0.135141\n",
      "1    0.017986\n",
      "2    0.000060\n",
      "3    0.000108\n",
      "4    0.000042\n",
      "Name: tip, dtype: float64\n"
     ]
    }
   ],
   "source": [
    "# Define the exponential transformation\n",
    "exp_tr = lambda x: np.exp(-x.mean() * x) * x.mean()\n",
    "\n",
    "# Group the data according to the time\n",
    "restaurant_grouped = restaurant_data.groupby('time')\n",
    "\n",
    "# Apply the transformation\n",
    "restaurant_exp_group = restaurant_grouped['tip'].transform(exp_tr)\n",
    "print(restaurant_exp_group.head())"
   ]
  },
  {
   "cell_type": "markdown",
   "id": "fc9de451",
   "metadata": {},
   "source": [
    "### Validation of normalization\n"
   ]
  },
  {
   "cell_type": "code",
   "execution_count": 71,
   "id": "a512111b",
   "metadata": {},
   "outputs": [
    {
     "data": {
      "text/html": [
       "<div>\n",
       "<style scoped>\n",
       "    .dataframe tbody tr th:only-of-type {\n",
       "        vertical-align: middle;\n",
       "    }\n",
       "\n",
       "    .dataframe tbody tr th {\n",
       "        vertical-align: top;\n",
       "    }\n",
       "\n",
       "    .dataframe thead th {\n",
       "        text-align: right;\n",
       "    }\n",
       "</style>\n",
       "<table border=\"1\" class=\"dataframe\">\n",
       "  <thead>\n",
       "    <tr style=\"text-align: right;\">\n",
       "      <th></th>\n",
       "      <th>S1</th>\n",
       "      <th>R1</th>\n",
       "      <th>S2</th>\n",
       "      <th>R2</th>\n",
       "      <th>S3</th>\n",
       "      <th>R3</th>\n",
       "      <th>S4</th>\n",
       "      <th>R4</th>\n",
       "      <th>S5</th>\n",
       "      <th>R5</th>\n",
       "    </tr>\n",
       "  </thead>\n",
       "  <tbody>\n",
       "    <tr>\n",
       "      <th>0</th>\n",
       "      <td>-1.380537</td>\n",
       "      <td>0.270364</td>\n",
       "      <td>-1.380537</td>\n",
       "      <td>-0.730297</td>\n",
       "      <td>-1.380537</td>\n",
       "      <td>0.631224</td>\n",
       "      <td>-1.380537</td>\n",
       "      <td>0.350823</td>\n",
       "      <td>-1.380537</td>\n",
       "      <td>-0.724286</td>\n",
       "    </tr>\n",
       "    <tr>\n",
       "      <th>1</th>\n",
       "      <td>-0.613572</td>\n",
       "      <td>0.495666</td>\n",
       "      <td>-0.613572</td>\n",
       "      <td>1.095445</td>\n",
       "      <td>-0.613572</td>\n",
       "      <td>0.039451</td>\n",
       "      <td>-0.613572</td>\n",
       "      <td>0.350823</td>\n",
       "      <td>-0.613572</td>\n",
       "      <td>-0.724286</td>\n",
       "    </tr>\n",
       "    <tr>\n",
       "      <th>2</th>\n",
       "      <td>0.153393</td>\n",
       "      <td>0.720969</td>\n",
       "      <td>0.153393</td>\n",
       "      <td>-0.730297</td>\n",
       "      <td>0.153393</td>\n",
       "      <td>0.631224</td>\n",
       "      <td>0.153393</td>\n",
       "      <td>-1.403293</td>\n",
       "      <td>0.153393</td>\n",
       "      <td>-0.724286</td>\n",
       "    </tr>\n",
       "    <tr>\n",
       "      <th>3</th>\n",
       "      <td>0.920358</td>\n",
       "      <td>0.270364</td>\n",
       "      <td>0.920358</td>\n",
       "      <td>-0.730297</td>\n",
       "      <td>0.920358</td>\n",
       "      <td>-1.735866</td>\n",
       "      <td>0.920358</td>\n",
       "      <td>1.227881</td>\n",
       "      <td>0.920358</td>\n",
       "      <td>1.267500</td>\n",
       "    </tr>\n",
       "    <tr>\n",
       "      <th>4</th>\n",
       "      <td>0.920358</td>\n",
       "      <td>-1.757363</td>\n",
       "      <td>0.920358</td>\n",
       "      <td>1.095445</td>\n",
       "      <td>0.920358</td>\n",
       "      <td>0.433966</td>\n",
       "      <td>0.920358</td>\n",
       "      <td>-0.526235</td>\n",
       "      <td>0.920358</td>\n",
       "      <td>0.905357</td>\n",
       "    </tr>\n",
       "  </tbody>\n",
       "</table>\n",
       "</div>"
      ],
      "text/plain": [
       "         S1        R1        S2        R2        S3        R3        S4  \\\n",
       "0 -1.380537  0.270364 -1.380537 -0.730297 -1.380537  0.631224 -1.380537   \n",
       "1 -0.613572  0.495666 -0.613572  1.095445 -0.613572  0.039451 -0.613572   \n",
       "2  0.153393  0.720969  0.153393 -0.730297  0.153393  0.631224  0.153393   \n",
       "3  0.920358  0.270364  0.920358 -0.730297  0.920358 -1.735866  0.920358   \n",
       "4  0.920358 -1.757363  0.920358  1.095445  0.920358  0.433966  0.920358   \n",
       "\n",
       "         R4        S5        R5  \n",
       "0  0.350823 -1.380537 -0.724286  \n",
       "1  0.350823 -0.613572 -0.724286  \n",
       "2 -1.403293  0.153393 -0.724286  \n",
       "3  1.227881  0.920358  1.267500  \n",
       "4 -0.526235  0.920358  0.905357  "
      ]
     },
     "execution_count": 71,
     "metadata": {},
     "output_type": "execute_result"
    }
   ],
   "source": [
    "poker_grouped = poker.groupby('Class')\n",
    "zscore = lambda x: (x - x.mean()) / x.std()\n",
    "\n",
    "# Apply the transformation\n",
    "poker_trans = poker_grouped.transform(zscore)\n",
    "poker_trans.head()"
   ]
  },
  {
   "cell_type": "code",
   "execution_count": 72,
   "id": "350cb075",
   "metadata": {},
   "outputs": [
    {
     "name": "stdout",
     "output_type": "stream",
     "text": [
      "        S1   R1   S2   R2   S3   R3   S4   R4   S5   R5\n",
      "Class                                                  \n",
      "-3    -0.0  0.0  0.0 -0.0 -0.0  0.0  0.0 -0.0  0.0  0.0\n",
      "-2     0.0 -0.0  0.0 -0.0  0.0  0.0  0.0 -0.0 -0.0  0.0\n",
      " 0    -0.0  0.0 -0.0 -0.0  0.0  0.0 -0.0 -0.0 -0.0 -0.0\n",
      " 3     0.0  0.0  0.0 -0.0 -0.0  0.0  0.0 -0.0  0.0  0.0\n",
      " 4    -0.0 -0.0 -0.0 -0.0  0.0 -0.0 -0.0  0.0  0.0  0.0\n",
      " 5    -0.0 -0.0 -0.0  0.0 -0.0  0.0 -0.0  0.0 -0.0  0.0\n",
      " 6    -0.0 -0.0 -0.0  0.0  0.0 -0.0  0.0  0.0 -0.0  0.0\n",
      " 7     0.0 -0.0 -0.0  0.0 -0.0  0.0  0.0 -0.0 -0.0 -0.0\n",
      " 8    -0.0  0.0 -0.0  0.0 -0.0  0.0 -0.0  0.0 -0.0 -0.0\n",
      " 9     0.0 -0.0  0.0 -0.0  0.0 -0.0  0.0  0.0  0.0 -0.0\n"
     ]
    },
    {
     "data": {
      "text/html": [
       "<div>\n",
       "<style scoped>\n",
       "    .dataframe tbody tr th:only-of-type {\n",
       "        vertical-align: middle;\n",
       "    }\n",
       "\n",
       "    .dataframe tbody tr th {\n",
       "        vertical-align: top;\n",
       "    }\n",
       "\n",
       "    .dataframe thead th {\n",
       "        text-align: right;\n",
       "    }\n",
       "</style>\n",
       "<table border=\"1\" class=\"dataframe\">\n",
       "  <thead>\n",
       "    <tr style=\"text-align: right;\">\n",
       "      <th></th>\n",
       "      <th>S1</th>\n",
       "      <th>R1</th>\n",
       "      <th>S2</th>\n",
       "      <th>R2</th>\n",
       "      <th>S3</th>\n",
       "      <th>R3</th>\n",
       "      <th>S4</th>\n",
       "      <th>R4</th>\n",
       "      <th>S5</th>\n",
       "      <th>R5</th>\n",
       "    </tr>\n",
       "    <tr>\n",
       "      <th>Class</th>\n",
       "      <th></th>\n",
       "      <th></th>\n",
       "      <th></th>\n",
       "      <th></th>\n",
       "      <th></th>\n",
       "      <th></th>\n",
       "      <th></th>\n",
       "      <th></th>\n",
       "      <th></th>\n",
       "      <th></th>\n",
       "    </tr>\n",
       "  </thead>\n",
       "  <tbody>\n",
       "    <tr>\n",
       "      <th>-3</th>\n",
       "      <td>1.0</td>\n",
       "      <td>1.0</td>\n",
       "      <td>1.0</td>\n",
       "      <td>1.0</td>\n",
       "      <td>1.0</td>\n",
       "      <td>1.0</td>\n",
       "      <td>1.0</td>\n",
       "      <td>1.0</td>\n",
       "      <td>1.0</td>\n",
       "      <td>1.0</td>\n",
       "    </tr>\n",
       "    <tr>\n",
       "      <th>-2</th>\n",
       "      <td>1.0</td>\n",
       "      <td>1.0</td>\n",
       "      <td>1.0</td>\n",
       "      <td>1.0</td>\n",
       "      <td>1.0</td>\n",
       "      <td>1.0</td>\n",
       "      <td>1.0</td>\n",
       "      <td>1.0</td>\n",
       "      <td>1.0</td>\n",
       "      <td>1.0</td>\n",
       "    </tr>\n",
       "    <tr>\n",
       "      <th>0</th>\n",
       "      <td>1.0</td>\n",
       "      <td>1.0</td>\n",
       "      <td>1.0</td>\n",
       "      <td>1.0</td>\n",
       "      <td>1.0</td>\n",
       "      <td>1.0</td>\n",
       "      <td>1.0</td>\n",
       "      <td>1.0</td>\n",
       "      <td>1.0</td>\n",
       "      <td>1.0</td>\n",
       "    </tr>\n",
       "    <tr>\n",
       "      <th>3</th>\n",
       "      <td>1.0</td>\n",
       "      <td>1.0</td>\n",
       "      <td>1.0</td>\n",
       "      <td>1.0</td>\n",
       "      <td>1.0</td>\n",
       "      <td>1.0</td>\n",
       "      <td>1.0</td>\n",
       "      <td>1.0</td>\n",
       "      <td>1.0</td>\n",
       "      <td>1.0</td>\n",
       "    </tr>\n",
       "    <tr>\n",
       "      <th>4</th>\n",
       "      <td>1.0</td>\n",
       "      <td>1.0</td>\n",
       "      <td>1.0</td>\n",
       "      <td>1.0</td>\n",
       "      <td>1.0</td>\n",
       "      <td>1.0</td>\n",
       "      <td>1.0</td>\n",
       "      <td>1.0</td>\n",
       "      <td>1.0</td>\n",
       "      <td>1.0</td>\n",
       "    </tr>\n",
       "    <tr>\n",
       "      <th>5</th>\n",
       "      <td>1.0</td>\n",
       "      <td>1.0</td>\n",
       "      <td>1.0</td>\n",
       "      <td>1.0</td>\n",
       "      <td>1.0</td>\n",
       "      <td>1.0</td>\n",
       "      <td>1.0</td>\n",
       "      <td>1.0</td>\n",
       "      <td>1.0</td>\n",
       "      <td>1.0</td>\n",
       "    </tr>\n",
       "    <tr>\n",
       "      <th>6</th>\n",
       "      <td>1.0</td>\n",
       "      <td>1.0</td>\n",
       "      <td>1.0</td>\n",
       "      <td>1.0</td>\n",
       "      <td>1.0</td>\n",
       "      <td>1.0</td>\n",
       "      <td>1.0</td>\n",
       "      <td>1.0</td>\n",
       "      <td>1.0</td>\n",
       "      <td>1.0</td>\n",
       "    </tr>\n",
       "    <tr>\n",
       "      <th>7</th>\n",
       "      <td>1.0</td>\n",
       "      <td>1.0</td>\n",
       "      <td>1.0</td>\n",
       "      <td>1.0</td>\n",
       "      <td>1.0</td>\n",
       "      <td>1.0</td>\n",
       "      <td>1.0</td>\n",
       "      <td>1.0</td>\n",
       "      <td>1.0</td>\n",
       "      <td>1.0</td>\n",
       "    </tr>\n",
       "    <tr>\n",
       "      <th>8</th>\n",
       "      <td>1.0</td>\n",
       "      <td>1.0</td>\n",
       "      <td>1.0</td>\n",
       "      <td>1.0</td>\n",
       "      <td>1.0</td>\n",
       "      <td>1.0</td>\n",
       "      <td>1.0</td>\n",
       "      <td>1.0</td>\n",
       "      <td>1.0</td>\n",
       "      <td>1.0</td>\n",
       "    </tr>\n",
       "    <tr>\n",
       "      <th>9</th>\n",
       "      <td>1.0</td>\n",
       "      <td>1.0</td>\n",
       "      <td>1.0</td>\n",
       "      <td>1.0</td>\n",
       "      <td>1.0</td>\n",
       "      <td>1.0</td>\n",
       "      <td>1.0</td>\n",
       "      <td>1.0</td>\n",
       "      <td>1.0</td>\n",
       "      <td>1.0</td>\n",
       "    </tr>\n",
       "  </tbody>\n",
       "</table>\n",
       "</div>"
      ],
      "text/plain": [
       "        S1   R1   S2   R2   S3   R3   S4   R4   S5   R5\n",
       "Class                                                  \n",
       "-3     1.0  1.0  1.0  1.0  1.0  1.0  1.0  1.0  1.0  1.0\n",
       "-2     1.0  1.0  1.0  1.0  1.0  1.0  1.0  1.0  1.0  1.0\n",
       " 0     1.0  1.0  1.0  1.0  1.0  1.0  1.0  1.0  1.0  1.0\n",
       " 3     1.0  1.0  1.0  1.0  1.0  1.0  1.0  1.0  1.0  1.0\n",
       " 4     1.0  1.0  1.0  1.0  1.0  1.0  1.0  1.0  1.0  1.0\n",
       " 5     1.0  1.0  1.0  1.0  1.0  1.0  1.0  1.0  1.0  1.0\n",
       " 6     1.0  1.0  1.0  1.0  1.0  1.0  1.0  1.0  1.0  1.0\n",
       " 7     1.0  1.0  1.0  1.0  1.0  1.0  1.0  1.0  1.0  1.0\n",
       " 8     1.0  1.0  1.0  1.0  1.0  1.0  1.0  1.0  1.0  1.0\n",
       " 9     1.0  1.0  1.0  1.0  1.0  1.0  1.0  1.0  1.0  1.0"
      ]
     },
     "execution_count": 72,
     "metadata": {},
     "output_type": "execute_result"
    }
   ],
   "source": [
    "zscore = lambda x: (x - x.mean()) / x.std()\n",
    "\n",
    "# Re-group the grouped object and print each group's means and standard deviation\n",
    "poker_regrouped = poker_trans.groupby(poker_hands['Class'])\n",
    "\n",
    "print(np.round(poker_regrouped.mean(), 3))\n",
    "poker_regrouped.std()"
   ]
  },
  {
   "cell_type": "markdown",
   "id": "c6db52eb",
   "metadata": {},
   "source": [
    "> lambda x: np.random.randint(0,10) transformation would produce the same results in the whole dataset regardless of groupings. This is when NOT to use .transform()"
   ]
  },
  {
   "cell_type": "markdown",
   "id": "d38e19d8",
   "metadata": {},
   "source": [
    "## Missing value imputation using transform()"
   ]
  },
  {
   "cell_type": "code",
   "execution_count": 73,
   "id": "cbd19590",
   "metadata": {},
   "outputs": [],
   "source": [
    "restaurant_na = restaurant.copy()"
   ]
  },
  {
   "cell_type": "code",
   "execution_count": 74,
   "id": "79637634",
   "metadata": {},
   "outputs": [],
   "source": [
    "restaurant.dropna(inplace=True)"
   ]
  },
  {
   "cell_type": "code",
   "execution_count": 75,
   "id": "1d6cf63a",
   "metadata": {},
   "outputs": [
    {
     "data": {
      "text/plain": [
       "time\n",
       "Dinner    176\n",
       "Lunch      68\n",
       "Name: total_bill, dtype: int64"
      ]
     },
     "execution_count": 75,
     "metadata": {},
     "output_type": "execute_result"
    }
   ],
   "source": [
    "prior_counta = restaurant.groupby('time')['total_bill'].count()\n",
    "prior_counta "
   ]
  },
  {
   "cell_type": "code",
   "execution_count": 77,
   "id": "b3e228ac",
   "metadata": {},
   "outputs": [
    {
     "name": "stdout",
     "output_type": "stream",
     "text": [
      "time\n",
      "Dinner    0\n",
      "Lunch     0\n",
      "Name: total_bill, dtype: int64\n"
     ]
    }
   ],
   "source": [
    "missing_counts = restaurant_na.groupby('time')['total_bill'].count()\n",
    "print(prior_counta - missing_counts)"
   ]
  },
  {
   "cell_type": "markdown",
   "id": "fa6ab733",
   "metadata": {},
   "source": [
    "\n",
    "### Identifying missing values\n"
   ]
  },
  {
   "cell_type": "code",
   "execution_count": 76,
   "id": "91d432f7",
   "metadata": {},
   "outputs": [
    {
     "name": "stdout",
     "output_type": "stream",
     "text": [
      "smoker\n",
      "No     0\n",
      "Yes    0\n",
      "dtype: int64\n"
     ]
    }
   ],
   "source": [
    "# Group both objects according to smoke condition\n",
    "restaurant_nan_grouped = restaurant.groupby('smoker')\n",
    "\n",
    "# Store the number of present values\n",
    "restaurant_nan_nval = restaurant_nan_grouped['tip'].count()\n",
    "\n",
    "# Print the group-wise missing entries\n",
    "print(restaurant_nan_grouped['total_bill'].count() - restaurant_nan_nval)"
   ]
  },
  {
   "cell_type": "markdown",
   "id": "6c87357b",
   "metadata": {},
   "source": [
    "### Missing value imputation\n"
   ]
  },
  {
   "cell_type": "code",
   "execution_count": 78,
   "id": "27d43fa5",
   "metadata": {},
   "outputs": [
    {
     "name": "stdout",
     "output_type": "stream",
     "text": [
      "   total_bill   tip  size\n",
      "0       16.99  1.01     2\n",
      "1       10.34  1.66     3\n",
      "2       21.01  3.50     3\n",
      "3       23.68  3.31     2\n",
      "4       24.59  3.61     4\n"
     ]
    },
    {
     "name": "stderr",
     "output_type": "stream",
     "text": [
      "/var/folders/4n/dll6nv094h5fm4m2lhzkmtd40000gn/T/ipykernel_75379/3747900698.py:8: FutureWarning: Dropping invalid columns in DataFrameGroupBy.transform is deprecated. In a future version, a TypeError will be raised. Before calling .transform, select only columns which should be valid for the function.\n",
      "  restaurant_impute = restaurant_grouped.transform(missing_trans)\n"
     ]
    }
   ],
   "source": [
    "# Define the lambda function\n",
    "missing_trans = lambda x: x.fillna(x.median())\n",
    "\n",
    "# Group the data according to time\n",
    "restaurant_grouped = restaurant_data.groupby('time')\n",
    "\n",
    "# Apply the transformation\n",
    "restaurant_impute = restaurant_grouped.transform(missing_trans)\n",
    "print(restaurant_impute.head())"
   ]
  },
  {
   "cell_type": "markdown",
   "id": "0854997c",
   "metadata": {},
   "source": [
    "## Data filtration using the filter() function\n"
   ]
  },
  {
   "cell_type": "code",
   "execution_count": 80,
   "id": "c406d8a8",
   "metadata": {},
   "outputs": [
    {
     "data": {
      "text/html": [
       "<div>\n",
       "<style scoped>\n",
       "    .dataframe tbody tr th:only-of-type {\n",
       "        vertical-align: middle;\n",
       "    }\n",
       "\n",
       "    .dataframe tbody tr th {\n",
       "        vertical-align: top;\n",
       "    }\n",
       "\n",
       "    .dataframe thead th {\n",
       "        text-align: right;\n",
       "    }\n",
       "</style>\n",
       "<table border=\"1\" class=\"dataframe\">\n",
       "  <thead>\n",
       "    <tr style=\"text-align: right;\">\n",
       "      <th></th>\n",
       "      <th>total_bill</th>\n",
       "      <th>tip</th>\n",
       "      <th>sex</th>\n",
       "      <th>smoker</th>\n",
       "      <th>day</th>\n",
       "      <th>time</th>\n",
       "      <th>size</th>\n",
       "    </tr>\n",
       "  </thead>\n",
       "  <tbody>\n",
       "    <tr>\n",
       "      <th>0</th>\n",
       "      <td>16.99</td>\n",
       "      <td>1.01</td>\n",
       "      <td>Female</td>\n",
       "      <td>No</td>\n",
       "      <td>Sun</td>\n",
       "      <td>Dinner</td>\n",
       "      <td>2</td>\n",
       "    </tr>\n",
       "    <tr>\n",
       "      <th>1</th>\n",
       "      <td>10.34</td>\n",
       "      <td>1.66</td>\n",
       "      <td>Male</td>\n",
       "      <td>No</td>\n",
       "      <td>Sun</td>\n",
       "      <td>Dinner</td>\n",
       "      <td>3</td>\n",
       "    </tr>\n",
       "    <tr>\n",
       "      <th>2</th>\n",
       "      <td>21.01</td>\n",
       "      <td>3.50</td>\n",
       "      <td>Male</td>\n",
       "      <td>No</td>\n",
       "      <td>Sun</td>\n",
       "      <td>Dinner</td>\n",
       "      <td>3</td>\n",
       "    </tr>\n",
       "    <tr>\n",
       "      <th>3</th>\n",
       "      <td>23.68</td>\n",
       "      <td>3.31</td>\n",
       "      <td>Male</td>\n",
       "      <td>No</td>\n",
       "      <td>Sun</td>\n",
       "      <td>Dinner</td>\n",
       "      <td>2</td>\n",
       "    </tr>\n",
       "    <tr>\n",
       "      <th>4</th>\n",
       "      <td>24.59</td>\n",
       "      <td>3.61</td>\n",
       "      <td>Female</td>\n",
       "      <td>No</td>\n",
       "      <td>Sun</td>\n",
       "      <td>Dinner</td>\n",
       "      <td>4</td>\n",
       "    </tr>\n",
       "  </tbody>\n",
       "</table>\n",
       "</div>"
      ],
      "text/plain": [
       "   total_bill   tip     sex smoker  day    time  size\n",
       "0       16.99  1.01  Female     No  Sun  Dinner     2\n",
       "1       10.34  1.66    Male     No  Sun  Dinner     3\n",
       "2       21.01  3.50    Male     No  Sun  Dinner     3\n",
       "3       23.68  3.31    Male     No  Sun  Dinner     2\n",
       "4       24.59  3.61  Female     No  Sun  Dinner     4"
      ]
     },
     "execution_count": 80,
     "metadata": {},
     "output_type": "execute_result"
    }
   ],
   "source": [
    "restaurant_grouped = restaurant.groupby('day')\n",
    "filter_trans = lambda x: x['total_bill'].mean() > 20\n",
    "\n",
    "restaurant_filtered = restaurant_grouped.filter(filter_trans)\n",
    "restaurant_filtered.head()"
   ]
  },
  {
   "cell_type": "markdown",
   "id": "d9a7528e",
   "metadata": {},
   "source": [
    "### Data filtration\n"
   ]
  },
  {
   "cell_type": "code",
   "execution_count": 81,
   "id": "9c895feb",
   "metadata": {},
   "outputs": [
    {
     "name": "stdout",
     "output_type": "stream",
     "text": [
      "Days of the week that have a mean total_bill greater than $20: ['Sun' 'Sat']\n"
     ]
    }
   ],
   "source": [
    "# Filter the days where the count of total_bill is greater than $40\n",
    "total_bill_40 = restaurant_data.groupby('day').filter(lambda x: x['total_bill'].count() > 40)\n",
    "\n",
    "# Select only the entries that have a mean total_bill greater than $20\n",
    "total_bill_20 = total_bill_40.groupby('day').filter(lambda x : x['total_bill'].mean() > 20)\n",
    "\n",
    "# Print days of the week that have a mean total_bill greater than $20\n",
    "print('Days of the week that have a mean total_bill greater than $20:', total_bill_20.day.unique())"
   ]
  }
 ],
 "metadata": {
  "kernelspec": {
   "display_name": "Python 3 (ipykernel)",
   "language": "python",
   "name": "python3"
  },
  "language_info": {
   "codemirror_mode": {
    "name": "ipython",
    "version": 3
   },
   "file_extension": ".py",
   "mimetype": "text/x-python",
   "name": "python",
   "nbconvert_exporter": "python",
   "pygments_lexer": "ipython3",
   "version": "3.9.7"
  }
 },
 "nbformat": 4,
 "nbformat_minor": 5
}
